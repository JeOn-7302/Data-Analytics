{
 "cells": [
  {
   "cell_type": "code",
   "execution_count": 1,
   "id": "2fbd92cf",
   "metadata": {},
   "outputs": [],
   "source": [
    "import numpy as np"
   ]
  },
  {
   "cell_type": "code",
   "execution_count": 2,
   "id": "062ad5cf",
   "metadata": {},
   "outputs": [
    {
     "name": "stdout",
     "output_type": "stream",
     "text": [
      "1\n",
      "4\n",
      "3\n",
      "5\n",
      "2\n",
      "6\n"
     ]
    }
   ],
   "source": [
    "A = np.array([[1, 4, 3],\n",
    "              [5, 2, 6]])\n",
    " \n",
    "for x in np.nditer(A):\n",
    "    print(x)"
   ]
  },
  {
   "cell_type": "code",
   "execution_count": 5,
   "id": "cf4469c1",
   "metadata": {
    "scrolled": true
   },
   "outputs": [
    {
     "name": "stdout",
     "output_type": "stream",
     "text": [
      "[0.  0.1 0.2 0.3 0.4 0.5 0.6 0.7 0.8 0.9 1. ]\n"
     ]
    }
   ],
   "source": [
    "print(np.linspace(0,1,11))"
   ]
  },
  {
   "cell_type": "code",
   "execution_count": 6,
   "id": "b111eb2e",
   "metadata": {},
   "outputs": [
    {
     "name": "stdout",
     "output_type": "stream",
     "text": [
      "[14 46 48 45 18 28]\n"
     ]
    }
   ],
   "source": [
    "np.random.seed(42)\n",
    "print(np.random.choice(range(1,50),size=6,replace=False))"
   ]
  },
  {
   "cell_type": "code",
   "execution_count": 11,
   "id": "f6fd500c",
   "metadata": {},
   "outputs": [
    {
     "name": "stdout",
     "output_type": "stream",
     "text": [
      "[[0 0 0 0 0 0]\n",
      " [0 1 0 0 0 0]\n",
      " [0 0 2 0 0 0]\n",
      " [0 0 0 3 0 0]\n",
      " [0 0 0 0 4 0]\n",
      " [0 0 0 0 0 5]]\n"
     ]
    }
   ],
   "source": [
    "matrix = [0,1,2,3,4,5]\n",
    "print(np.diag(matrix,0))"
   ]
  },
  {
   "cell_type": "code",
   "execution_count": 12,
   "id": "80cf4726",
   "metadata": {},
   "outputs": [
    {
     "name": "stdout",
     "output_type": "stream",
     "text": [
      "[[0 0 0 0 0 0]\n",
      " [0 1 0 0 0 0]\n",
      " [0 0 2 0 0 0]\n",
      " [0 0 0 3 0 0]\n",
      " [0 0 0 0 4 0]\n",
      " [0 0 0 0 0 5]]\n"
     ]
    }
   ],
   "source": [
    "print(np.diag(np.arange(6)))"
   ]
  },
  {
   "cell_type": "code",
   "execution_count": 13,
   "id": "527425b6",
   "metadata": {},
   "outputs": [
    {
     "name": "stdout",
     "output_type": "stream",
     "text": [
      "[[ 0  1  2  3]\n",
      " [ 4  5  6  7]\n",
      " [ 8  9 10 11]]\n"
     ]
    }
   ],
   "source": [
    "A = np.arange(12).reshape(-1, 4)\n",
    "np.save('array.npy', A)\n",
    "B = np.load('array.npy')\n",
    " \n",
    " \n",
    "print(B)"
   ]
  },
  {
   "cell_type": "code",
   "execution_count": 14,
   "id": "cab13cd2",
   "metadata": {},
   "outputs": [
    {
     "name": "stdout",
     "output_type": "stream",
     "text": [
      "[[ 0.  1.  2.  3.]\n",
      " [ 4.  5.  6.  7.]\n",
      " [ 8.  9. 10. 11.]]\n"
     ]
    }
   ],
   "source": [
    "A = np.arange(12, dtype='int').reshape(-1, 4)\n",
    "np.savetxt(fname='array.txt', X=A, fmt='%0.2f')\n",
    "B = np.loadtxt('array.txt')\n",
    "\n",
    "print(B)"
   ]
  },
  {
   "cell_type": "code",
   "execution_count": 15,
   "id": "ea489916",
   "metadata": {},
   "outputs": [
    {
     "name": "stdout",
     "output_type": "stream",
     "text": [
      "00003415\n"
     ]
    }
   ],
   "source": [
    "num = 3415\n",
    "print(str(num).zfill(8))"
   ]
  },
  {
   "cell_type": "code",
   "execution_count": 18,
   "id": "82ff7c2d",
   "metadata": {},
   "outputs": [
    {
     "name": "stdout",
     "output_type": "stream",
     "text": [
      "sciezka data scientist machine learning engineer\n"
     ]
    }
   ],
   "source": [
    "url = (\n",
    "    'https://e-smartdata.teachable.com/'\n",
    "    'p/sciezka-data-scientist-machine-learning-engineer'\n",
    ")\n",
    "\n",
    "name = url.split('/')[-1]\n",
    "name = name.replace('-',' ')\n",
    "\n",
    "print(name)"
   ]
  },
  {
   "cell_type": "code",
   "execution_count": 20,
   "id": "0e659335",
   "metadata": {
    "scrolled": true
   },
   "outputs": [
    {
     "name": "stdout",
     "output_type": "stream",
     "text": [
      "{'english', 'mathematics', 'physics', 'biology'}\n"
     ]
    }
   ],
   "source": [
    "subjects = {'mathematics', 'biology', 'physics'}\n",
    "subjects.add('english')\n",
    "\n",
    "print(subjects)"
   ]
  },
  {
   "cell_type": "code",
   "execution_count": 25,
   "id": "bf7a57f1",
   "metadata": {},
   "outputs": [
    {
     "name": "stdout",
     "output_type": "stream",
     "text": [
      "Number of items: 8\n"
     ]
    }
   ],
   "source": [
    "text = 'Programming in python.'\n",
    "vowels = {'a', 'e', 'i', 'o', 'u'}\n",
    "\n",
    "text = text.lower()\n",
    "text = text.replace(' ', '')\n",
    "text = text.replace('.', '')\n",
    "\n",
    "letters = set(text)\n",
    "consonants = letters.difference(vowels)\n",
    " \n",
    " \n",
    "print(f'Number of items: {len(consonants)}')"
   ]
  },
  {
   "cell_type": "code",
   "execution_count": 27,
   "id": "8740b505",
   "metadata": {},
   "outputs": [
    {
     "name": "stdout",
     "output_type": "stream",
     "text": [
      "Symmetric difference: {2, 6, 8, 10}\n"
     ]
    }
   ],
   "source": [
    "A = {2, 4, 6, 8}\n",
    "B = {4, 10}\n",
    "\n",
    "sym_diff = A.symmetric_difference(B)\n",
    "print(f'Symmetric difference: {sym_diff}')"
   ]
  },
  {
   "cell_type": "code",
   "execution_count": 28,
   "id": "56bf7efc",
   "metadata": {},
   "outputs": [
    {
     "name": "stdout",
     "output_type": "stream",
     "text": [
      "Customer ID: {'9005', '9002'}\n"
     ]
    }
   ],
   "source": [
    "is_clicked = {'9001', '9002', '9005'}\n",
    "is_bought = {'9002', '9004', '9005'}\n",
    "\n",
    "result = is_clicked.intersection(is_bought)\n",
    " \n",
    "print(f'Customer ID: {result}')"
   ]
  },
  {
   "cell_type": "code",
   "execution_count": 31,
   "id": "ba65eed1",
   "metadata": {},
   "outputs": [
    {
     "name": "stdout",
     "output_type": "stream",
     "text": [
      "('AAPL.US', 'IBM.US', 'MSFT.US', 'HD.US', 'GS.US', 'NKE.US')\n"
     ]
    }
   ],
   "source": [
    "dji1 = ('AAPL.US', 'IBM.US', 'MSFT.US')\n",
    "dji2 = ('HD.US', 'GS.US', 'NKE.US')\n",
    "\n",
    "result = dji1 + dji2\n",
    "\n",
    "print(result)"
   ]
  },
  {
   "cell_type": "code",
   "execution_count": 33,
   "id": "97d88cf1",
   "metadata": {},
   "outputs": [
    {
     "name": "stdout",
     "output_type": "stream",
     "text": [
      "Selected ID: {'001', '007'}\n"
     ]
    }
   ],
   "source": [
    "ad1_id = {'001', '002', '003'}\n",
    "ad2_id = {'002', '003', '007'}\n",
    "\n",
    "result = ad1_id.symmetric_difference(ad2_id)\n",
    " \n",
    "print(f'Selected ID: {result}')"
   ]
  },
  {
   "cell_type": "code",
   "execution_count": null,
   "id": "c2695baf",
   "metadata": {},
   "outputs": [],
   "source": []
  }
 ],
 "metadata": {
  "kernelspec": {
   "display_name": "Python 3 (ipykernel)",
   "language": "python",
   "name": "python3"
  },
  "language_info": {
   "codemirror_mode": {
    "name": "ipython",
    "version": 3
   },
   "file_extension": ".py",
   "mimetype": "text/x-python",
   "name": "python",
   "nbconvert_exporter": "python",
   "pygments_lexer": "ipython3",
   "version": "3.9.12"
  }
 },
 "nbformat": 4,
 "nbformat_minor": 5
}
