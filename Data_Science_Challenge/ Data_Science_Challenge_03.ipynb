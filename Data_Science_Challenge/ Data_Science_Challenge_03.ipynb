{
 "cells": [
  {
   "cell_type": "code",
   "execution_count": 1,
   "id": "6ceebbf9",
   "metadata": {},
   "outputs": [
    {
     "name": "stdout",
     "output_type": "stream",
     "text": [
      "[[0, 1, 2, 3], [4, 5, 6, 7], [8, 9, 10, 11]]\n"
     ]
    }
   ],
   "source": [
    "import numpy as np\n",
    "A = np.arange(12, dtype='int').reshape(-1, 4)\n",
    "print(A.tolist())"
   ]
  },
  {
   "cell_type": "code",
   "execution_count": 2,
   "id": "4344048c",
   "metadata": {},
   "outputs": [
    {
     "name": "stdout",
     "output_type": "stream",
     "text": [
      "[[ 8  9 10 11]\n",
      " [ 4  5  6  7]\n",
      " [ 0  1  2  3]]\n"
     ]
    }
   ],
   "source": [
    "A = np.arange(12, dtype='int').reshape(-1, 4)\n",
    "print(A[::-1])"
   ]
  },
  {
   "cell_type": "code",
   "execution_count": 3,
   "id": "df310be1",
   "metadata": {},
   "outputs": [
    {
     "name": "stdout",
     "output_type": "stream",
     "text": [
      "[[0. 0. 0. 0. 0. 0.]\n",
      " [0. 1. 1. 1. 1. 0.]\n",
      " [0. 1. 1. 1. 1. 0.]\n",
      " [0. 1. 1. 1. 1. 0.]\n",
      " [0. 1. 1. 1. 1. 0.]\n",
      " [0. 0. 0. 0. 0. 0.]]\n"
     ]
    }
   ],
   "source": [
    "A = np.ones(shape=(4,4))\n",
    "print(np.pad(A, pad_width=1, constant_values=0))"
   ]
  },
  {
   "cell_type": "code",
   "execution_count": 4,
   "id": "d6cc04a7",
   "metadata": {},
   "outputs": [
    {
     "name": "stdout",
     "output_type": "stream",
     "text": [
      "[[10  0 10  0 10  0]\n",
      " [ 5  0  5  0  5  0]\n",
      " [10  0 10  0 10  0]\n",
      " [ 5  0  5  0  5  0]\n",
      " [10  0 10  0 10  0]\n",
      " [ 5  0  5  0  5  0]]\n"
     ]
    }
   ],
   "source": [
    "A = np.zeros(shape=(6,6),dtype='int')\n",
    "A[::2,::2] = 10\n",
    "A[1::2,::2] = 5\n",
    "print(A)"
   ]
  },
  {
   "cell_type": "code",
   "execution_count": 5,
   "id": "b2dc45ca",
   "metadata": {},
   "outputs": [
    {
     "name": "stdout",
     "output_type": "stream",
     "text": [
      "[[ 0  1  2  3]\n",
      " [ 4  5  6  7]\n",
      " [ 8  9 10 11]\n",
      " [ 4  3  7  2]\n",
      " [ 0  5  2  6]]\n"
     ]
    }
   ],
   "source": [
    "A = np.arange(12).reshape(-1, 4)\n",
    "B = np.array([[4, 3, 7, 2],\n",
    "              [0, 5, 2, 6]])\n",
    "\n",
    "print(np.append(A,B,axis=0))"
   ]
  },
  {
   "cell_type": "code",
   "execution_count": 6,
   "id": "1384b846",
   "metadata": {},
   "outputs": [
    {
     "name": "stdout",
     "output_type": "stream",
     "text": [
      "[0 2 3]\n"
     ]
    }
   ],
   "source": [
    "A = np.arange(8).reshape(-1, 4)\n",
    "B = np.array([[9, 10, 11, 3],\n",
    "              [2, 8, 0, 9]])\n",
    "\n",
    "print(np.intersect1d(A,B))"
   ]
  },
  {
   "cell_type": "code",
   "execution_count": 7,
   "id": "5e99176e",
   "metadata": {},
   "outputs": [
    {
     "name": "stdout",
     "output_type": "stream",
     "text": [
      "[1 2 4 5 7 9]\n"
     ]
    }
   ],
   "source": [
    "np.random.seed(10)\n",
    "A = np.random.randint(low=1, high=10, size=(3, 5))\n",
    "\n",
    "print(np.unique(A))"
   ]
  },
  {
   "cell_type": "code",
   "execution_count": 8,
   "id": "024b7e66",
   "metadata": {},
   "outputs": [
    {
     "name": "stdout",
     "output_type": "stream",
     "text": [
      "[0 2 1]\n"
     ]
    }
   ],
   "source": [
    "A = np.array([[0.4, 0.3, 0.3],\n",
    "              [0.1, 0.1, 0.8],\n",
    "              [0.2, 0.5, 0.3]])\n",
    "\n",
    "print(np.argmax(A,axis=1))"
   ]
  },
  {
   "cell_type": "code",
   "execution_count": 9,
   "id": "fd9ab6a1",
   "metadata": {
    "scrolled": true
   },
   "outputs": [
    {
     "name": "stdout",
     "output_type": "stream",
     "text": [
      "[[ 3.49  4.99  9.99]\n",
      " [ 1.99  4.99  9.99]\n",
      " [ 2.39  7.29 14.99]]\n",
      "[[ 1.99  2.39  4.99]\n",
      " [ 4.99  3.49  7.29]\n",
      " [14.99  9.99  9.99]]\n"
     ]
    }
   ],
   "source": [
    "A = np.array([[4.99, 3.49, 9.99],\n",
    "              [1.99, 9.99, 4.99],\n",
    "              [14.99, 2.39, 7.29]])\n",
    "\n",
    "print(np.sort(A))\n",
    "print(np.sort(A, axis=0))"
   ]
  },
  {
   "cell_type": "code",
   "execution_count": 10,
   "id": "3fa996f0",
   "metadata": {},
   "outputs": [],
   "source": [
    "A = np.array([[4.99, 3.49, 9.99],\n",
    "              [1.99, 9.99, 4.99],\n",
    "              [14.99, 2.39, 7.29]])"
   ]
  },
  {
   "cell_type": "code",
   "execution_count": 11,
   "id": "a9fd145d",
   "metadata": {},
   "outputs": [
    {
     "name": "stdout",
     "output_type": "stream",
     "text": [
      "[ 9.99  9.99 14.99]\n"
     ]
    }
   ],
   "source": [
    "print(A[A > 8])"
   ]
  },
  {
   "cell_type": "code",
   "execution_count": 12,
   "id": "cc9f10ee",
   "metadata": {},
   "outputs": [
    {
     "name": "stdout",
     "output_type": "stream",
     "text": [
      "[[ 4.99  3.49  9.99]\n",
      " [ 1.99  9.99  4.99]\n",
      " [10.    2.39  7.29]]\n"
     ]
    }
   ],
   "source": [
    "print(np.where(A > 10.0, 10.0, A))"
   ]
  },
  {
   "cell_type": "code",
   "execution_count": 13,
   "id": "145fce3e",
   "metadata": {},
   "outputs": [
    {
     "name": "stdout",
     "output_type": "stream",
     "text": [
      "[ 4.99  3.49  9.99  1.99  9.99  4.99 14.99  2.39  7.29]\n"
     ]
    }
   ],
   "source": [
    "print(np.ravel(A))"
   ]
  },
  {
   "cell_type": "code",
   "execution_count": 14,
   "id": "202bf93a",
   "metadata": {
    "scrolled": true
   },
   "outputs": [
    {
     "name": "stdout",
     "output_type": "stream",
     "text": [
      "[[0. 0. 0.]\n",
      " [0. 0. 0.]\n",
      " [0. 0. 0.]]\n"
     ]
    }
   ],
   "source": [
    "print(np.zeros_like(A))"
   ]
  },
  {
   "cell_type": "code",
   "execution_count": 15,
   "id": "0924eeb2",
   "metadata": {
    "scrolled": true
   },
   "outputs": [
    {
     "name": "stdout",
     "output_type": "stream",
     "text": [
      "[[9.99 9.99 9.99]\n",
      " [9.99 9.99 9.99]\n",
      " [9.99 9.99 9.99]]\n"
     ]
    }
   ],
   "source": [
    "print(np.full_like(A,9.99))"
   ]
  },
  {
   "cell_type": "code",
   "execution_count": 16,
   "id": "b6a56b90",
   "metadata": {},
   "outputs": [
    {
     "name": "stdout",
     "output_type": "stream",
     "text": [
      "[[1. 0. 0. 0. 0.]\n",
      " [1. 1. 0. 0. 0.]\n",
      " [1. 1. 1. 0. 0.]\n",
      " [1. 1. 1. 1. 0.]\n",
      " [1. 1. 1. 1. 1.]]\n"
     ]
    }
   ],
   "source": [
    "print(np.tri(N=5))"
   ]
  },
  {
   "cell_type": "code",
   "execution_count": 17,
   "id": "6d53bca9",
   "metadata": {
    "scrolled": true
   },
   "outputs": [
    {
     "name": "stdout",
     "output_type": "stream",
     "text": [
      "[[[4 5 4 2]\n",
      "  [6 3 5 1]\n",
      "  [5 2 1 2]]\n",
      "\n",
      " [[7 2 3 1]\n",
      "  [6 2 0 9]\n",
      "  [0 1 9 1]]]\n"
     ]
    }
   ],
   "source": [
    "A = np.array([[[4, 5, 4, 2],\n",
    "               [6, 3, 5, 1],\n",
    "               [5, 2, 1, 2]],\n",
    "              \n",
    "              [[7, 2, 3, 1],\n",
    "               [6, 2, 0, 9],\n",
    "               [0, 1, 9, 1]]])\n",
    "print(A)"
   ]
  },
  {
   "cell_type": "code",
   "execution_count": 18,
   "id": "be001d7f",
   "metadata": {},
   "outputs": [],
   "source": [
    "image = np.random.randint(\n",
    "    low=0, high=256, size=(200, 300), dtype=np.uint8\n",
    ")"
   ]
  },
  {
   "cell_type": "code",
   "execution_count": 19,
   "id": "41f46ca1",
   "metadata": {},
   "outputs": [],
   "source": [
    "image = np.random.randint(\n",
    "    low=0, high=256, size=(200, 300), dtype=np.uint8\n",
    ")\n",
    "image_sorted = np.sort(image)"
   ]
  },
  {
   "cell_type": "code",
   "execution_count": 20,
   "id": "79daf529",
   "metadata": {},
   "outputs": [
    {
     "name": "stdout",
     "output_type": "stream",
     "text": [
      "[[[4 2 1]\n",
      "  [6 4 2]]]\n"
     ]
    }
   ],
   "source": [
    "A = np.array([[4, 2, 1],\n",
    "              [6, 4, 2]])\n",
    "\n",
    "print(np.expand_dims(A, axis=0))"
   ]
  },
  {
   "cell_type": "code",
   "execution_count": 21,
   "id": "b29ebd8f",
   "metadata": {},
   "outputs": [
    {
     "name": "stdout",
     "output_type": "stream",
     "text": [
      "[[[102 220 225]\n",
      "  [ 95 179  61]\n",
      "  [234 203  92]\n",
      "  ...\n",
      "  [ 41  27  87]\n",
      "  [102 225  65]\n",
      "  [170   0 238]]\n",
      "\n",
      " [[169 170 213]\n",
      "  [159  44 250]\n",
      "  [224 206  61]\n",
      "  ...\n",
      "  [162 118  77]\n",
      "  [228  67  21]\n",
      "  [ 68  30  64]]\n",
      "\n",
      " [[237  26 118]\n",
      "  [ 62 157 198]\n",
      "  [  1 151  37]\n",
      "  ...\n",
      "  [218 189  51]\n",
      "  [193 250 243]\n",
      "  [235  34 180]]\n",
      "\n",
      " ...\n",
      "\n",
      " [[116 102 228]\n",
      "  [ 29  75  71]\n",
      "  [156 133  53]\n",
      "  ...\n",
      "  [ 93  45  68]\n",
      "  [124 238  76]\n",
      "  [184 185 202]]\n",
      "\n",
      " [[216 202 116]\n",
      "  [146 168 132]\n",
      "  [236  80  45]\n",
      "  ...\n",
      "  [169 145 212]\n",
      "  [123  50  70]\n",
      "  [ 11  43  62]]\n",
      "\n",
      " [[ 32  52  65]\n",
      "  [155   2  86]\n",
      "  [ 83 240  27]\n",
      "  ...\n",
      "  [ 30  57 175]\n",
      "  [ 72  83 171]\n",
      "  [ 40 114 195]]]\n"
     ]
    }
   ],
   "source": [
    "np.random.seed(42)\n",
    " \n",
    "image = np.random.randint(\n",
    "    low=0, high=256, size=(200, 300, 3), dtype=np.uint8\n",
    ")\n",
    "print(image)"
   ]
  },
  {
   "cell_type": "code",
   "execution_count": 22,
   "id": "7feac80b",
   "metadata": {},
   "outputs": [],
   "source": [
    "image = np.random.randint(\n",
    "    low=0, high=256, size=(200, 300, 3), dtype=np.uint8\n",
    ")\n",
    "image_extended = np.expand_dims(image, axis=0)"
   ]
  },
  {
   "cell_type": "code",
   "execution_count": 23,
   "id": "a93bbd18",
   "metadata": {},
   "outputs": [],
   "source": [
    "image1 = np.random.randint(\n",
    "    low=0, high=256, size=(200, 300, 3), dtype=np.uint8\n",
    ")\n",
    "image2 = np.random.randint(\n",
    "    low=0, high=256, size=(200, 300, 3), dtype=np.uint8\n",
    ")\n",
    " \n",
    "image1 = np.expand_dims(image1, axis=0)\n",
    "image2 = np.expand_dims(image2, axis=0)\n",
    " \n",
    "images = np.append(image1, image2, axis=0)"
   ]
  },
  {
   "cell_type": "code",
   "execution_count": 25,
   "id": "18890f11",
   "metadata": {
    "scrolled": true
   },
   "outputs": [
    {
     "name": "stdout",
     "output_type": "stream",
     "text": [
      "[[1 2 3]\n",
      " [6 3 2]]\n"
     ]
    }
   ],
   "source": [
    "A = np.array([[[1, 2, 3],\n",
    "               [6, 3, 2]]])\n",
    "print(np.squeeze(A))"
   ]
  },
  {
   "cell_type": "code",
   "execution_count": 26,
   "id": "122e90ce",
   "metadata": {
    "scrolled": true
   },
   "outputs": [
    {
     "name": "stdout",
     "output_type": "stream",
     "text": [
      "[0.4 0.9 0.5 0.6]\n"
     ]
    }
   ],
   "source": [
    "A = np.array([[0.4],\n",
    "              [0.9],\n",
    "              [0.5],\n",
    "              [0.6]]) \n",
    "print(np.squeeze(A))"
   ]
  },
  {
   "cell_type": "code",
   "execution_count": 27,
   "id": "225b9d14",
   "metadata": {
    "scrolled": true
   },
   "outputs": [
    {
     "name": "stdout",
     "output_type": "stream",
     "text": [
      "[[ 3  2  1  0]\n",
      " [ 7  6  5  4]\n",
      " [11 10  9  8]]\n"
     ]
    }
   ],
   "source": [
    "A = np.arange(12, dtype='int').reshape(-1, 4)\n",
    "print(A[:, ::-1])"
   ]
  },
  {
   "cell_type": "code",
   "execution_count": 28,
   "id": "40949081",
   "metadata": {
    "scrolled": true
   },
   "outputs": [
    {
     "name": "stdout",
     "output_type": "stream",
     "text": [
      "[[11 10  9  8]\n",
      " [ 7  6  5  4]\n",
      " [ 3  2  1  0]]\n"
     ]
    }
   ],
   "source": [
    "A = np.arange(12, dtype='int').reshape(-1, 4)\n",
    "print(A[::-1, ::-1])"
   ]
  },
  {
   "cell_type": "code",
   "execution_count": 29,
   "id": "64c5c5f0",
   "metadata": {},
   "outputs": [
    {
     "name": "stdout",
     "output_type": "stream",
     "text": [
      "[[102  95 234   3  14  46  99 212 188 153]\n",
      " [203 214 121 114 239 244  74  14 145 184]\n",
      " [116  85 226 235 151 181 160   6  52  14]\n",
      " [ 76 233 235 213  68 219 129   0 140 147]\n",
      " [ 20  46  19 209  57 156  86  24 235 110]\n",
      " [231 254 218 134 162  73 169  35 242 253]\n",
      " [187 249 201 231 189 116  49  74 189 158]\n",
      " [ 29   7  54 131 181 123 248 119 228  13]\n",
      " [ 50 155  40 120  72 115 167  85 131 242]\n",
      " [ 52 169  13 144 243 167   8  77  22  10]]\n"
     ]
    }
   ],
   "source": [
    "np.random.seed(42)\n",
    " \n",
    "image = np.random.randint(\n",
    "    low=0, high=256, size=(10, 10, 3), dtype=np.uint8\n",
    ")\n",
    "print(image[:, :, 0])"
   ]
  },
  {
   "cell_type": "code",
   "execution_count": 31,
   "id": "93b16bc2",
   "metadata": {
    "scrolled": true
   },
   "outputs": [
    {
     "name": "stdout",
     "output_type": "stream",
     "text": [
      "[[[162  54 160]\n",
      "  [186 162 241]\n",
      "  [ 72 202  32]\n",
      "  [249 113 197]\n",
      "  [122  49  32]]\n",
      "\n",
      " [[172 166  40]\n",
      "  [152 169  29]\n",
      "  [ 27 204  58]\n",
      "  [234 134  88]\n",
      "  [244 220 200]]\n",
      "\n",
      " [[ 32 204 108]\n",
      "  [ 24  47  92]\n",
      "  [ 69  16 246]\n",
      "  [241 237  94]\n",
      "  [150 137 156]]\n",
      "\n",
      " [[199 186 171]\n",
      "  [ 74  95 151]\n",
      "  [103 247  54]\n",
      "  [163 213  42]\n",
      "  [ 84  70 218]]\n",
      "\n",
      " [[100 186 157]\n",
      "  [ 30 174  31]\n",
      "  [194 248 205]\n",
      "  [ 53 151 182]\n",
      "  [130 106  82]]]\n"
     ]
    }
   ],
   "source": [
    "image = np.random.randint(\n",
    "    low=0, high=256, size=(10, 10, 3), dtype=np.uint8\n",
    ")\n",
    "result = image[:5, :5, :]\n",
    "print(result)"
   ]
  },
  {
   "cell_type": "code",
   "execution_count": 34,
   "id": "1129cd39",
   "metadata": {},
   "outputs": [
    {
     "name": "stdout",
     "output_type": "stream",
     "text": [
      "[[3 4 5]\n",
      " [8 3 1]\n",
      " [0 5 2]\n",
      " [4 2 1]]\n"
     ]
    }
   ],
   "source": [
    "A = np.array([[3, 4, 5],\n",
    "              [8, 3, 1]])\n",
    "B = np.array([[0, 5, 2],\n",
    "              [4, 2, 1]])\n",
    "print(np.concatenate((A, B), axis=0))"
   ]
  },
  {
   "cell_type": "code",
   "execution_count": 33,
   "id": "24c4e9a2",
   "metadata": {},
   "outputs": [
    {
     "name": "stdout",
     "output_type": "stream",
     "text": [
      "[[4.3 4.2 0. ]\n",
      " [3.1 3.6 1. ]]\n"
     ]
    }
   ],
   "source": [
    "data = np.array([[4.3, 4.2],\n",
    "                 [3.1, 3.6]])\n",
    "target = np.array([[0],\n",
    "                   [1]])\n",
    "print(np.concatenate((data, target), axis=1))"
   ]
  },
  {
   "cell_type": "code",
   "execution_count": 36,
   "id": "813bb35b",
   "metadata": {
    "scrolled": true
   },
   "outputs": [
    {
     "name": "stdout",
     "output_type": "stream",
     "text": [
      "[[1.6 0.4 1.4]\n",
      " [0.9 1.3 0.3]\n",
      " [2.2 3.2 1.2]]\n"
     ]
    }
   ],
   "source": [
    "feature1 = np.array([1.6, 0.9, 2.2])\n",
    "feature2 = np.array([0.4, 1.3, 3.2])\n",
    "feature3 = np.array([1.4, 0.3, 1.2])\n",
    "print(np.column_stack((feature1, feature2, feature3)))"
   ]
  },
  {
   "cell_type": "code",
   "execution_count": null,
   "id": "5bf9c341",
   "metadata": {},
   "outputs": [],
   "source": []
  }
 ],
 "metadata": {
  "kernelspec": {
   "display_name": "Python 3 (ipykernel)",
   "language": "python",
   "name": "python3"
  },
  "language_info": {
   "codemirror_mode": {
    "name": "ipython",
    "version": 3
   },
   "file_extension": ".py",
   "mimetype": "text/x-python",
   "name": "python",
   "nbconvert_exporter": "python",
   "pygments_lexer": "ipython3",
   "version": "3.9.12"
  }
 },
 "nbformat": 4,
 "nbformat_minor": 5
}
