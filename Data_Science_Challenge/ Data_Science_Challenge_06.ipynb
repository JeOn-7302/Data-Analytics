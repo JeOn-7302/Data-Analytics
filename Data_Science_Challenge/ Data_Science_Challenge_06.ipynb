{
 "cells": [
  {
   "cell_type": "code",
   "execution_count": 1,
   "id": "33dc1786",
   "metadata": {},
   "outputs": [],
   "source": [
    "import numpy as np\n",
    "import pandas as pd"
   ]
  },
  {
   "cell_type": "code",
   "execution_count": 2,
   "id": "518d8541",
   "metadata": {},
   "outputs": [
    {
     "name": "stdout",
     "output_type": "stream",
     "text": [
      "0    PLW\n",
      "1    CDR\n",
      "2    11B\n",
      "3    TEN\n",
      "dtype: object\n"
     ]
    }
   ],
   "source": [
    "stocks = ['PLW', 'CDR', '11B', 'TEN']\n",
    "print(pd.Series(data=stocks))"
   ]
  },
  {
   "cell_type": "code",
   "execution_count": 4,
   "id": "decf1268",
   "metadata": {},
   "outputs": [
    {
     "name": "stdout",
     "output_type": "stream",
     "text": [
      "PLW    387.0\n",
      "CDR    339.5\n",
      "TEN    349.5\n",
      "11B    391.0\n",
      "dtype: float64\n"
     ]
    }
   ],
   "source": [
    "stocks = {'PLW': 387.00, 'CDR': 339.5, 'TEN': 349.5, '11B': 391.0}\n",
    "quotations = pd.Series(data=stocks)\n",
    "\n",
    "print(quotations)"
   ]
  },
  {
   "cell_type": "code",
   "execution_count": 5,
   "id": "915f1158",
   "metadata": {},
   "outputs": [
    {
     "name": "stdout",
     "output_type": "stream",
     "text": [
      "[387.0, 339.5, 349.5, 391.0]\n"
     ]
    }
   ],
   "source": [
    "stocks = {'PLW': 387.00, 'CDR': 339.5, 'TEN': 349.5, '11B': 391.0}\n",
    "quotations = pd.Series(data=stocks)\n",
    "quotations = quotations.tolist()\n",
    "\n",
    "print(quotations)"
   ]
  },
  {
   "cell_type": "code",
   "execution_count": 6,
   "id": "250a6dbb",
   "metadata": {},
   "outputs": [
    {
     "name": "stdout",
     "output_type": "stream",
     "text": [
      "     price\n",
      "PLW  387.0\n",
      "CDR  339.5\n",
      "TEN  349.5\n",
      "11B  391.0\n"
     ]
    }
   ],
   "source": [
    "stocks = {'PLW': 387.00, 'CDR': 339.5, 'TEN': 349.5, '11B': 391.0}\n",
    "quotations = pd.Series(data=stocks)\n",
    "quotations = pd.DataFrame(quotations, columns=['price'])\n",
    "\n",
    "print(quotations)"
   ]
  },
  {
   "cell_type": "code",
   "execution_count": 8,
   "id": "4ff30a8e",
   "metadata": {
    "scrolled": true
   },
   "outputs": [
    {
     "name": "stdout",
     "output_type": "stream",
     "text": [
      "101    10.0\n",
      "102    20.0\n",
      "103    30.0\n",
      "104    40.0\n",
      "105    50.0\n",
      "106    60.0\n",
      "107    70.0\n",
      "108    80.0\n",
      "109    90.0\n",
      "dtype: float64\n"
     ]
    }
   ],
   "source": [
    "s = pd.Series(\n",
    "    data=np.arange(10, 100, 10),\n",
    "    index=np.arange(101, 110),\n",
    "    dtype='float',\n",
    ")\n",
    "\n",
    "print(s)"
   ]
  },
  {
   "cell_type": "code",
   "execution_count": 9,
   "id": "90cd3322",
   "metadata": {},
   "outputs": [
    {
     "name": "stdout",
     "output_type": "stream",
     "text": [
      "a    1\n",
      "b    2\n",
      "c    3\n",
      "d    4\n",
      "dtype: int64\n"
     ]
    }
   ],
   "source": [
    "series = pd.Series(['001', '002', '003', '004'], list('abcd'))\n",
    "series = pd.to_numeric(series)\n",
    "print(series)"
   ]
  },
  {
   "cell_type": "code",
   "execution_count": 10,
   "id": "bf68026a",
   "metadata": {},
   "outputs": [
    {
     "name": "stdout",
     "output_type": "stream",
     "text": [
      "a    1\n",
      "b    2\n",
      "c    3\n",
      "d    4\n",
      "dtype: int64\n"
     ]
    }
   ],
   "source": [
    "series = pd.Series(['001', '002', '003', '004'], list('abcd'))\n",
    "series = series.astype(int)\n",
    "print(series)"
   ]
  },
  {
   "cell_type": "code",
   "execution_count": 11,
   "id": "d4718c53",
   "metadata": {},
   "outputs": [
    {
     "name": "stdout",
     "output_type": "stream",
     "text": [
      "PLW    387.0\n",
      "CDR    339.5\n",
      "TEN    349.5\n",
      "11B    391.0\n",
      "BBT     25.5\n",
      "F51     19.2\n",
      "dtype: float64\n"
     ]
    },
    {
     "name": "stderr",
     "output_type": "stream",
     "text": [
      "/var/folders/g6/368p423d117c1pt_9pkjmw4w0000gn/T/ipykernel_42721/3554205037.py:3: FutureWarning: The series.append method is deprecated and will be removed from pandas in a future version. Use pandas.concat instead.\n",
      "  quotations = quotations.append(pd.Series({'BBT': 25.5, 'F51': 19.2}))\n"
     ]
    }
   ],
   "source": [
    "stocks = {'PLW': 387.00, 'CDR': 339.5, 'TEN': 349.5, '11B': 391.0}\n",
    "quotations = pd.Series(data=stocks)\n",
    "quotations = quotations.append(pd.Series({'BBT': 25.5, 'F51': 19.2}))\n",
    "\n",
    "print(quotations)"
   ]
  },
  {
   "cell_type": "code",
   "execution_count": 12,
   "id": "c1cd7359",
   "metadata": {},
   "outputs": [
    {
     "name": "stdout",
     "output_type": "stream",
     "text": [
      "  ticker  price\n",
      "0    PLW  387.0\n",
      "1    CDR  339.5\n",
      "2    TEN  349.5\n",
      "3    11B  391.0\n",
      "4    BBT   25.5\n",
      "5    F51   19.2\n"
     ]
    }
   ],
   "source": [
    "stocks = {\n",
    "    'PLW': 387.00,\n",
    "    'CDR': 339.5,\n",
    "    'TEN': 349.5,\n",
    "    '11B': 391.0,\n",
    "    'BBT': 25.5,\n",
    "    'F51': 19.2,\n",
    "}\n",
    "quotations = pd.Series(data=stocks)\n",
    "quotations = pd.DataFrame(quotations).reset_index()\n",
    "quotations.columns = ['ticker', 'price']\n",
    "print(quotations)"
   ]
  },
  {
   "cell_type": "code",
   "execution_count": 13,
   "id": "031ffd12",
   "metadata": {},
   "outputs": [
    {
     "name": "stdout",
     "output_type": "stream",
     "text": [
      "     company   price   ticker\n",
      "0     Amazon  2375.0  AMZN.US\n",
      "1  Microsoft   178.6  MSFT.US\n",
      "2   Facebook   179.2    FB.US\n"
     ]
    }
   ],
   "source": [
    "data_dict = {\n",
    "    'company': ['Amazon', 'Microsoft', 'Facebook'],\n",
    "    'price': [2375.00, 178.6, 179.2],\n",
    "    'ticker': ['AMZN.US', 'MSFT.US', 'FB.US']\n",
    "}\n",
    " \n",
    "companies = pd.DataFrame(data=data_dict)\n",
    "print(companies)"
   ]
  },
  {
   "cell_type": "code",
   "execution_count": 14,
   "id": "6909608b",
   "metadata": {},
   "outputs": [
    {
     "name": "stdout",
     "output_type": "stream",
     "text": [
      "            price   ticker\n",
      "company                   \n",
      "Amazon     2375.0  AMZN.US\n",
      "Microsoft   178.6  MSFT.US\n",
      "Facebook    179.2    FB.US\n"
     ]
    }
   ],
   "source": [
    "data_dict = {\n",
    "    'company': ['Amazon', 'Microsoft', 'Facebook'],\n",
    "    'price': [2375.00, 178.6, 179.2],\n",
    "    'ticker': ['AMZN.US', 'MSFT.US', 'FB.US']\n",
    "}\n",
    " \n",
    "companies = pd.DataFrame(data=data_dict)\n",
    "companies = companies.set_index('company')\n",
    "print(companies)"
   ]
  },
  {
   "cell_type": "code",
   "execution_count": 15,
   "id": "27ac758f",
   "metadata": {},
   "outputs": [
    {
     "name": "stdout",
     "output_type": "stream",
     "text": [
      "DatetimeIndex(['2020-01-01', '2020-01-02', '2020-01-03', '2020-01-04',\n",
      "               '2020-01-05', '2020-01-06', '2020-01-07', '2020-01-08',\n",
      "               '2020-01-09', '2020-01-10', '2020-01-11', '2020-01-12',\n",
      "               '2020-01-13', '2020-01-14', '2020-01-15', '2020-01-16',\n",
      "               '2020-01-17', '2020-01-18', '2020-01-19', '2020-01-20',\n",
      "               '2020-01-21', '2020-01-22', '2020-01-23', '2020-01-24',\n",
      "               '2020-01-25', '2020-01-26', '2020-01-27', '2020-01-28',\n",
      "               '2020-01-29', '2020-01-30', '2020-01-31'],\n",
      "              dtype='datetime64[ns]', freq='D')\n"
     ]
    }
   ],
   "source": [
    "date_range = pd.date_range(start='2020-01-01', periods=31)\n",
    "print(date_range)"
   ]
  },
  {
   "cell_type": "code",
   "execution_count": 16,
   "id": "2668b182",
   "metadata": {},
   "outputs": [
    {
     "name": "stdout",
     "output_type": "stream",
     "text": [
      "DatetimeIndex(['2020-01-01', '2020-01-02', '2020-01-03', '2020-01-04',\n",
      "               '2020-01-05', '2020-01-06', '2020-01-07', '2020-01-08',\n",
      "               '2020-01-09', '2020-01-10', '2020-01-11', '2020-01-12',\n",
      "               '2020-01-13', '2020-01-14', '2020-01-15', '2020-01-16',\n",
      "               '2020-01-17', '2020-01-18', '2020-01-19', '2020-01-20',\n",
      "               '2020-01-21', '2020-01-22', '2020-01-23', '2020-01-24',\n",
      "               '2020-01-25', '2020-01-26', '2020-01-27', '2020-01-28',\n",
      "               '2020-01-29', '2020-01-30', '2020-01-31'],\n",
      "              dtype='datetime64[ns]', freq='D')\n"
     ]
    }
   ],
   "source": [
    "date_range = pd.date_range(start='2020-01-01', end='2020-01-31')\n",
    "print(date_range)"
   ]
  },
  {
   "cell_type": "code",
   "execution_count": 17,
   "id": "58ff6de2",
   "metadata": {},
   "outputs": [
    {
     "name": "stdout",
     "output_type": "stream",
     "text": [
      "DatetimeIndex(['2020-01-06', '2020-01-13', '2020-01-20', '2020-01-27',\n",
      "               '2020-02-03', '2020-02-10', '2020-02-17', '2020-02-24',\n",
      "               '2020-03-02', '2020-03-09', '2020-03-16', '2020-03-23',\n",
      "               '2020-03-30', '2020-04-06', '2020-04-13', '2020-04-20',\n",
      "               '2020-04-27', '2020-05-04', '2020-05-11', '2020-05-18',\n",
      "               '2020-05-25', '2020-06-01', '2020-06-08', '2020-06-15',\n",
      "               '2020-06-22', '2020-06-29', '2020-07-06', '2020-07-13',\n",
      "               '2020-07-20', '2020-07-27', '2020-08-03', '2020-08-10',\n",
      "               '2020-08-17', '2020-08-24', '2020-08-31', '2020-09-07',\n",
      "               '2020-09-14', '2020-09-21', '2020-09-28', '2020-10-05',\n",
      "               '2020-10-12', '2020-10-19', '2020-10-26', '2020-11-02',\n",
      "               '2020-11-09', '2020-11-16', '2020-11-23', '2020-11-30',\n",
      "               '2020-12-07', '2020-12-14', '2020-12-21', '2020-12-28'],\n",
      "              dtype='datetime64[ns]', freq='W-MON')\n"
     ]
    }
   ],
   "source": [
    "date_range = pd.date_range(start='2020-01-01', periods=52, freq='W-MON')\n",
    "print(date_range)"
   ]
  },
  {
   "cell_type": "code",
   "execution_count": 18,
   "id": "9a696f75",
   "metadata": {
    "scrolled": true
   },
   "outputs": [
    {
     "name": "stdout",
     "output_type": "stream",
     "text": [
      "DatetimeIndex(['2020-01-06', '2020-01-13', '2020-01-20', '2020-01-27',\n",
      "               '2020-02-03', '2020-02-10', '2020-02-17', '2020-02-24',\n",
      "               '2020-03-02', '2020-03-09', '2020-03-16', '2020-03-23',\n",
      "               '2020-03-30', '2020-04-06', '2020-04-13', '2020-04-20',\n",
      "               '2020-04-27', '2020-05-04', '2020-05-11', '2020-05-18',\n",
      "               '2020-05-25', '2020-06-01', '2020-06-08', '2020-06-15',\n",
      "               '2020-06-22', '2020-06-29', '2020-07-06', '2020-07-13',\n",
      "               '2020-07-20', '2020-07-27', '2020-08-03', '2020-08-10',\n",
      "               '2020-08-17', '2020-08-24', '2020-08-31', '2020-09-07',\n",
      "               '2020-09-14', '2020-09-21', '2020-09-28', '2020-10-05',\n",
      "               '2020-10-12', '2020-10-19', '2020-10-26', '2020-11-02',\n",
      "               '2020-11-09', '2020-11-16', '2020-11-23', '2020-11-30',\n",
      "               '2020-12-07', '2020-12-14', '2020-12-21', '2020-12-28'],\n",
      "              dtype='datetime64[ns]', freq='W-MON')\n"
     ]
    }
   ],
   "source": [
    "date_range = pd.date_range(\n",
    "    start='2020-01-01', end='2020-12-31', freq='W-MON'\n",
    ")\n",
    "print(date_range)"
   ]
  },
  {
   "cell_type": "code",
   "execution_count": 19,
   "id": "afaef2be",
   "metadata": {},
   "outputs": [
    {
     "name": "stdout",
     "output_type": "stream",
     "text": [
      "DatetimeIndex(['2021-01-01 00:00:00', '2021-01-01 01:00:00',\n",
      "               '2021-01-01 02:00:00', '2021-01-01 03:00:00',\n",
      "               '2021-01-01 04:00:00', '2021-01-01 05:00:00',\n",
      "               '2021-01-01 06:00:00', '2021-01-01 07:00:00',\n",
      "               '2021-01-01 08:00:00', '2021-01-01 09:00:00',\n",
      "               '2021-01-01 10:00:00', '2021-01-01 11:00:00',\n",
      "               '2021-01-01 12:00:00', '2021-01-01 13:00:00',\n",
      "               '2021-01-01 14:00:00', '2021-01-01 15:00:00',\n",
      "               '2021-01-01 16:00:00', '2021-01-01 17:00:00',\n",
      "               '2021-01-01 18:00:00', '2021-01-01 19:00:00',\n",
      "               '2021-01-01 20:00:00', '2021-01-01 21:00:00',\n",
      "               '2021-01-01 22:00:00', '2021-01-01 23:00:00'],\n",
      "              dtype='datetime64[ns]', freq='H')\n"
     ]
    }
   ],
   "source": [
    "date_range = pd.date_range(start='2021-01-01', periods=24, freq='H')\n",
    "print(date_range)"
   ]
  },
  {
   "cell_type": "code",
   "execution_count": 20,
   "id": "dcee35c7",
   "metadata": {},
   "outputs": [
    {
     "name": "stdout",
     "output_type": "stream",
     "text": [
      "DatetimeIndex(['2021-01-01 00:00:00', '2021-01-01 01:00:00',\n",
      "               '2021-01-01 02:00:00', '2021-01-01 03:00:00',\n",
      "               '2021-01-01 04:00:00', '2021-01-01 05:00:00',\n",
      "               '2021-01-01 06:00:00', '2021-01-01 07:00:00',\n",
      "               '2021-01-01 08:00:00', '2021-01-01 09:00:00',\n",
      "               '2021-01-01 10:00:00', '2021-01-01 11:00:00',\n",
      "               '2021-01-01 12:00:00', '2021-01-01 13:00:00',\n",
      "               '2021-01-01 14:00:00', '2021-01-01 15:00:00',\n",
      "               '2021-01-01 16:00:00', '2021-01-01 17:00:00',\n",
      "               '2021-01-01 18:00:00', '2021-01-01 19:00:00',\n",
      "               '2021-01-01 20:00:00', '2021-01-01 21:00:00',\n",
      "               '2021-01-01 22:00:00', '2021-01-01 23:00:00'],\n",
      "              dtype='datetime64[ns]', freq='H')\n"
     ]
    },
    {
     "name": "stderr",
     "output_type": "stream",
     "text": [
      "/var/folders/g6/368p423d117c1pt_9pkjmw4w0000gn/T/ipykernel_42721/4067055854.py:1: FutureWarning: Argument `closed` is deprecated in favor of `inclusive`.\n",
      "  date_range = pd.date_range(\n"
     ]
    }
   ],
   "source": [
    "date_range = pd.date_range(\n",
    "    start='2021-01-01', end='2021-01-02', freq='H', closed='left'\n",
    ")\n",
    "print(date_range)"
   ]
  },
  {
   "cell_type": "code",
   "execution_count": 21,
   "id": "eb8ea118",
   "metadata": {},
   "outputs": [
    {
     "name": "stdout",
     "output_type": "stream",
     "text": [
      "          day  day_of_year\n",
      "0  2021-03-01           60\n",
      "1  2021-03-02           61\n",
      "2  2021-03-03           62\n",
      "3  2021-03-04           63\n",
      "4  2021-03-05           64\n",
      "5  2021-03-06           65\n",
      "6  2021-03-07           66\n",
      "7  2021-03-08           67\n",
      "8  2021-03-09           68\n",
      "9  2021-03-10           69\n",
      "10 2021-03-11           70\n",
      "11 2021-03-12           71\n",
      "12 2021-03-13           72\n",
      "13 2021-03-14           73\n",
      "14 2021-03-15           74\n",
      "15 2021-03-16           75\n",
      "16 2021-03-17           76\n",
      "17 2021-03-18           77\n",
      "18 2021-03-19           78\n",
      "19 2021-03-20           79\n",
      "20 2021-03-21           80\n",
      "21 2021-03-22           81\n",
      "22 2021-03-23           82\n",
      "23 2021-03-24           83\n",
      "24 2021-03-25           84\n",
      "25 2021-03-26           85\n",
      "26 2021-03-27           86\n",
      "27 2021-03-28           87\n",
      "28 2021-03-29           88\n",
      "29 2021-03-30           89\n",
      "30 2021-03-31           90\n"
     ]
    }
   ],
   "source": [
    "date_range = pd.date_range(start='2021-03-01', periods=31)\n",
    "df = pd.DataFrame(data=date_range, columns=['day'])\n",
    "df['day_of_year'] = df['day'].dt.dayofyear\n",
    "print(df)"
   ]
  },
  {
   "cell_type": "code",
   "execution_count": 22,
   "id": "e683a640",
   "metadata": {},
   "outputs": [
    {
     "name": "stdout",
     "output_type": "stream",
     "text": [
      "              normal   uniform  binomial\n",
      "2020-01-01  0.496714  0.167483         0\n",
      "2020-01-02 -0.138264  0.104568         0\n",
      "2020-01-03  0.647689  0.636430         0\n",
      "2020-01-04  1.523030  0.706476         0\n",
      "2020-01-05 -0.234153  0.031586         1\n",
      "...              ...       ...       ...\n",
      "2022-09-22 -0.281100  0.280683         1\n",
      "2022-09-23  1.797687  0.206993         0\n",
      "2022-09-24  0.640843  0.516573         0\n",
      "2022-09-25 -0.571179  0.005506         1\n",
      "2022-09-26  0.572583  0.007664         0\n",
      "\n",
      "[1000 rows x 3 columns]\n"
     ]
    }
   ],
   "source": [
    "np.random.seed(42)\n",
    "data_dict = {\n",
    "    'normal': np.random.normal(loc=0, scale=1, size=1000),\n",
    "    'uniform': np.random.uniform(low=0, high=1, size=1000),\n",
    "    'binomial': np.random.binomial(n=1, p=0.2, size=1000),\n",
    "}\n",
    " \n",
    "df = pd.DataFrame(\n",
    "    data=data_dict, index=pd.date_range('2020-01-01', periods=1000)\n",
    ")\n",
    "print(df)"
   ]
  },
  {
   "cell_type": "code",
   "execution_count": 23,
   "id": "068395c9",
   "metadata": {},
   "outputs": [
    {
     "name": "stdout",
     "output_type": "stream",
     "text": [
      "              normal   uniform  binomial\n",
      "2020-01-01  0.496714  0.167483         0\n",
      "2020-01-02 -0.138264  0.104568         0\n",
      "2020-01-03  0.647689  0.636430         0\n",
      "2020-01-04  1.523030  0.706476         0\n",
      "2020-01-05 -0.234153  0.031586         1\n",
      "2020-01-06 -0.234137  0.936212         0\n",
      "2020-01-07  1.579213  0.051971         0\n",
      "2020-01-08  0.767435  0.541296         0\n",
      "2020-01-09 -0.469474  0.709061         1\n",
      "2020-01-10  0.542560  0.870969         0\n",
      "\n",
      "              normal   uniform  binomial\n",
      "2022-09-22 -0.281100  0.280683         1\n",
      "2022-09-23  1.797687  0.206993         0\n",
      "2022-09-24  0.640843  0.516573         0\n",
      "2022-09-25 -0.571179  0.005506         1\n",
      "2022-09-26  0.572583  0.007664         0\n"
     ]
    }
   ],
   "source": [
    "np.random.seed(42)\n",
    "data_dict = {\n",
    "    'normal': np.random.normal(loc=0, scale=1, size=1000),\n",
    "    'uniform': np.random.uniform(low=0, high=1, size=1000),\n",
    "    'binomial': np.random.binomial(n=1, p=0.2, size=1000),\n",
    "}\n",
    " \n",
    "df = pd.DataFrame(\n",
    "    data=data_dict, index=pd.date_range('2020-01-01', periods=1000)\n",
    ")\n",
    "print(df.head(10))\n",
    "print()\n",
    "print(df.tail())"
   ]
  },
  {
   "cell_type": "code",
   "execution_count": 24,
   "id": "b673b2c1",
   "metadata": {},
   "outputs": [
    {
     "name": "stdout",
     "output_type": "stream",
     "text": [
      "<class 'pandas.core.frame.DataFrame'>\n",
      "DatetimeIndex: 1000 entries, 2020-01-01 to 2022-09-26\n",
      "Freq: D\n",
      "Data columns (total 3 columns):\n",
      " #   Column    Non-Null Count  Dtype  \n",
      "---  ------    --------------  -----  \n",
      " 0   normal    1000 non-null   float64\n",
      " 1   uniform   1000 non-null   float64\n",
      " 2   binomial  1000 non-null   int64  \n",
      "dtypes: float64(2), int64(1)\n",
      "memory usage: 31.2 KB\n",
      "None\n",
      "\n",
      "            normal      uniform    binomial\n",
      "count  1000.000000  1000.000000  1000.00000\n",
      "mean      0.019332     0.503649     0.19200\n",
      "std       0.979216     0.288357     0.39407\n",
      "min      -3.241267     0.003218     0.00000\n",
      "25%      -0.647590     0.247199     0.00000\n",
      "50%       0.025301     0.516126     0.00000\n",
      "75%       0.647944     0.746319     0.00000\n",
      "max       3.852731     0.999414     1.00000\n"
     ]
    }
   ],
   "source": [
    "np.random.seed(42)\n",
    "data_dict = {\n",
    "    'normal': np.random.normal(loc=0, scale=1, size=1000),\n",
    "    'uniform': np.random.uniform(low=0, high=1, size=1000),\n",
    "    'binomial': np.random.binomial(n=1, p=0.2, size=1000),\n",
    "}\n",
    " \n",
    "df = pd.DataFrame(\n",
    "    data=data_dict, index=pd.date_range('2020-01-01', periods=1000)\n",
    ")\n",
    "print(df.info())\n",
    "print()\n",
    "print(df.describe())"
   ]
  },
  {
   "cell_type": "code",
   "execution_count": 25,
   "id": "5d8c36f6",
   "metadata": {},
   "outputs": [
    {
     "name": "stdout",
     "output_type": "stream",
     "text": [
      "0    808\n",
      "1    192\n",
      "Name: binomial, dtype: int64\n"
     ]
    }
   ],
   "source": [
    "np.random.seed(42)\n",
    "data_dict = {\n",
    "    'normal': np.random.normal(loc=0, scale=1, size=1000),\n",
    "    'uniform': np.random.uniform(low=0, high=1, size=1000),\n",
    "    'binomial': np.random.binomial(n=1, p=0.2, size=1000),\n",
    "}\n",
    " \n",
    "df = pd.DataFrame(\n",
    "    data=data_dict, index=pd.date_range('2020-01-01', periods=1000)\n",
    ")\n",
    "print(df['binomial'].value_counts())"
   ]
  }
 ],
 "metadata": {
  "kernelspec": {
   "display_name": "Python 3 (ipykernel)",
   "language": "python",
   "name": "python3"
  },
  "language_info": {
   "codemirror_mode": {
    "name": "ipython",
    "version": 3
   },
   "file_extension": ".py",
   "mimetype": "text/x-python",
   "name": "python",
   "nbconvert_exporter": "python",
   "pygments_lexer": "ipython3",
   "version": "3.9.12"
  }
 },
 "nbformat": 4,
 "nbformat_minor": 5
}
