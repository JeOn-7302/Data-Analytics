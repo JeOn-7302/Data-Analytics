{
 "cells": [
  {
   "cell_type": "code",
   "execution_count": 1,
   "id": "8f9fff30",
   "metadata": {},
   "outputs": [],
   "source": [
    "import numpy as np"
   ]
  },
  {
   "cell_type": "code",
   "execution_count": 4,
   "id": "3dde2249",
   "metadata": {
    "scrolled": true
   },
   "outputs": [
    {
     "name": "stdout",
     "output_type": "stream",
     "text": [
      "[[0 0 4 6 2 4 1 1]\n",
      " [0 0 6 2 2 4 1 1]\n",
      " [0 0 1 3 5 5 1 1]\n",
      " [0 0 3 1 5 4 1 1]\n",
      " [0 0 2 6 1 3 1 1]]\n"
     ]
    }
   ],
   "source": [
    "np.random.seed(42)\n",
    "\n",
    "A = np.random.randint(low=0, high=7, size=(5, 8))\n",
    "A[:, :2] = 0\n",
    "A[:, -2:] = 1\n",
    "\n",
    "print(A)"
   ]
  },
  {
   "cell_type": "code",
   "execution_count": 5,
   "id": "d615bfbc",
   "metadata": {},
   "outputs": [
    {
     "name": "stdout",
     "output_type": "stream",
     "text": [
      "[[0 0]\n",
      " [0 0]\n",
      " [0 0]\n",
      " [0 0]\n",
      " [0 0]]\n",
      "[[4 6 2 4]\n",
      " [6 2 2 4]\n",
      " [1 3 5 5]\n",
      " [3 1 5 4]\n",
      " [2 6 1 3]]\n",
      "[[1 1]\n",
      " [1 1]\n",
      " [1 1]\n",
      " [1 1]\n",
      " [1 1]]\n"
     ]
    }
   ],
   "source": [
    "A1,A2,A3 = np.split(A,[2,6],axis=1)\n",
    "print(A1)\n",
    "print(A2)\n",
    "print(A3)"
   ]
  },
  {
   "cell_type": "code",
   "execution_count": 6,
   "id": "6f960692",
   "metadata": {},
   "outputs": [
    {
     "name": "stdout",
     "output_type": "stream",
     "text": [
      "31\n"
     ]
    }
   ],
   "source": [
    "np.random.seed(42) \n",
    "A = np.random.randint(low=0, high=2, size=(10, 6))\n",
    "\n",
    "print(np.count_nonzero(A))"
   ]
  },
  {
   "cell_type": "code",
   "execution_count": 10,
   "id": "f888ee8b",
   "metadata": {
    "scrolled": true
   },
   "outputs": [
    {
     "name": "stdout",
     "output_type": "stream",
     "text": [
      "[[ 0.4967 -0.1383  0.6477  1.523 ]\n",
      " [-0.2342 -0.2341  1.5792  0.7674]\n",
      " [-0.4695  0.5426 -0.4634 -0.4657]\n",
      " [ 0.242  -1.9133 -1.7249 -0.5623]\n",
      " [-1.0128  0.3142 -0.908  -1.4123]\n",
      " [ 1.4656 -0.2258  0.0675 -1.4247]\n",
      " [-0.5444  0.1109 -1.151   0.3757]\n",
      " [-0.6006 -0.2917 -0.6017  1.8523]\n",
      " [-0.0135 -1.0577  0.8225 -1.2208]\n",
      " [ 0.2089 -1.9597 -1.3282  0.1969]]\n"
     ]
    }
   ],
   "source": [
    "np.random.seed(42)\n",
    "A = np.random.randn(10, 4)\n",
    "np.set_printoptions(precision=4)\n",
    "print(A)"
   ]
  },
  {
   "cell_type": "code",
   "execution_count": 11,
   "id": "a491411e",
   "metadata": {},
   "outputs": [
    {
     "name": "stdout",
     "output_type": "stream",
     "text": [
      "[0.0000012  0.00000017]\n"
     ]
    }
   ],
   "source": [
    "A = np.array([1.2e-6, 1.7e-7])\n",
    " \n",
    "np.set_printoptions(suppress=True, precision=8)\n",
    "print(A)"
   ]
  },
  {
   "cell_type": "code",
   "execution_count": 12,
   "id": "80773065",
   "metadata": {},
   "outputs": [
    {
     "name": "stdout",
     "output_type": "stream",
     "text": [
      "[[ 0.49671415 -0.1382643   1.52302986]\n",
      " [-0.23415337 -0.23413696  0.76743473]\n",
      " [-0.46947439  0.54256004 -0.46572975]\n",
      " [ 0.24196227 -1.91328024 -0.56228753]\n",
      " [-1.01283112  0.31424733 -1.4123037 ]\n",
      " [ 1.46564877 -0.2257763  -1.42474819]\n",
      " [-0.54438272  0.11092259  0.37569802]\n",
      " [-0.60063869 -0.29169375  1.85227818]]\n"
     ]
    }
   ],
   "source": [
    "np.random.seed(42)\n",
    " \n",
    "A = np.random.randn(8, 4)\n",
    "print(np.delete(A, [2], axis=1))"
   ]
  },
  {
   "cell_type": "code",
   "execution_count": 13,
   "id": "096c50e5",
   "metadata": {},
   "outputs": [
    {
     "name": "stdout",
     "output_type": "stream",
     "text": [
      "5.385164807134504\n"
     ]
    }
   ],
   "source": [
    "v = np.array([3, 4, -2])\n",
    "print(np.linalg.norm(v))"
   ]
  },
  {
   "cell_type": "code",
   "execution_count": 14,
   "id": "89ed227f",
   "metadata": {
    "collapsed": true
   },
   "outputs": [
    {
     "name": "stdout",
     "output_type": "stream",
     "text": [
      "[[6 3 7 4 6 9 2 6 7 4 ... 4 0 9 5 8 0 9 2 6 3]\n",
      " [8 2 4 2 6 4 8 6 1 3 ... 2 0 3 1 7 3 1 5 5 9]\n",
      " [3 5 1 9 1 9 3 7 6 8 ... 6 8 7 0 7 7 2 0 7 2]\n",
      " [2 0 4 9 6 9 8 6 8 7 ... 0 2 4 2 0 4 9 6 6 8]\n",
      " [9 9 2 6 0 3 3 4 6 6 ... 9 6 8 6 0 0 8 8 3 8]\n",
      " [2 6 5 7 8 4 0 2 9 7 ... 2 0 4 0 7 0 0 1 1 5]\n",
      " [6 4 0 0 2 1 4 9 5 6 ... 5 0 8 5 2 3 3 2 9 2]\n",
      " [2 3 6 3 8 0 7 6 1 7 ... 3 0 1 0 4 4 6 8 8 2]\n",
      " [2 2 3 7 5 7 0 7 3 0 ... 1 1 5 2 8 3 0 3 0 4]\n",
      " [3 7 7 6 2 0 0 2 5 6 ... 4 2 3 2 0 0 4 5 2 8]\n",
      " ...\n",
      " [6 4 8 2 0 3 8 3 1 9 ... 8 4 7 1 5 2 9 4 7 9]\n",
      " [0 4 2 3 1 8 2 1 9 8 ... 7 7 6 5 8 3 0 7 6 6]\n",
      " [2 3 9 8 5 4 2 8 4 4 ... 6 1 7 5 3 4 7 2 2 3]\n",
      " [0 8 7 7 9 5 6 5 8 2 ... 2 3 7 5 4 3 7 0 8 0]\n",
      " [7 3 8 4 2 8 8 3 3 7 ... 4 4 3 4 2 0 4 8 8 3]\n",
      " [2 0 1 7 0 7 6 7 5 8 ... 2 3 6 6 3 5 2 5 1 7]\n",
      " [1 6 8 0 7 6 5 5 5 8 ... 2 7 2 3 7 0 5 0 0 7]\n",
      " [3 0 9 6 4 4 0 9 5 8 ... 6 8 6 2 0 7 2 7 7 4]\n",
      " [0 9 6 9 4 7 8 6 6 0 ... 7 3 0 0 9 2 8 6 1 8]\n",
      " [9 1 2 9 1 2 5 8 8 6 ... 8 2 0 6 9 4 4 0 8 6]]\n"
     ]
    }
   ],
   "source": [
    "np.random.seed(42)\n",
    "A = np.random.randint(10, size=(100, 30))\n",
    " \n",
    "np.set_printoptions(edgeitems=10)\n",
    "print(A)"
   ]
  },
  {
   "cell_type": "code",
   "execution_count": 15,
   "id": "53925962",
   "metadata": {},
   "outputs": [
    {
     "name": "stdout",
     "output_type": "stream",
     "text": [
      "[[3.5 3.5 5.5 3.5]\n",
      " [5.5 3.  1.5 5.5]]\n"
     ]
    }
   ],
   "source": [
    "A = np.array([[3, 4, 9, 2],\n",
    "              [5, 3, 2, 5]])\n",
    "B = np.array([[4, 3, 2, 5],\n",
    "              [6, 3, 1, 6]])\n",
    " \n",
    "print((A + B) / 2)"
   ]
  },
  {
   "cell_type": "code",
   "execution_count": 16,
   "id": "c65d2537",
   "metadata": {
    "collapsed": true
   },
   "outputs": [
    {
     "name": "stdout",
     "output_type": "stream",
     "text": [
      "[[12 12 18 10]\n",
      " [30  9  2 30]]\n"
     ]
    }
   ],
   "source": [
    "A = np.array([[3, 4, 9, 2],\n",
    "              [5, 3, 2, 5]])\n",
    "B = np.array([[4, 3, 2, 5],\n",
    "              [6, 3, 1, 6]])\n",
    " \n",
    "print(A * B)"
   ]
  },
  {
   "cell_type": "code",
   "execution_count": 17,
   "id": "f1a7fd8d",
   "metadata": {},
   "outputs": [
    {
     "name": "stdout",
     "output_type": "stream",
     "text": [
      "[[1.73205081 2.         3.         1.41421356]\n",
      " [2.23606798 1.73205081 1.41421356 2.23606798]]\n"
     ]
    }
   ],
   "source": [
    "A = np.array([[3, 4, 9, 2],\n",
    "              [5, 3, 2, 5]])\n",
    " \n",
    "print(np.sqrt(A))"
   ]
  },
  {
   "cell_type": "code",
   "execution_count": 18,
   "id": "14d9489e",
   "metadata": {},
   "outputs": [
    {
     "name": "stdout",
     "output_type": "stream",
     "text": [
      "True\n"
     ]
    }
   ],
   "source": [
    "A = np.linspace(0, np.pi / 2, 20)\n",
    "B = np.full(shape=(20,), fill_value=1, dtype='float')\n",
    " \n",
    "print(np.allclose(np.power(np.sin(A), 2) + np.power(np.cos(A), 2), B))"
   ]
  },
  {
   "cell_type": "code",
   "execution_count": 19,
   "id": "971ef7d1",
   "metadata": {},
   "outputs": [
    {
     "name": "stdout",
     "output_type": "stream",
     "text": [
      "True\n"
     ]
    }
   ],
   "source": [
    "A = np.linspace(0, np.pi / 2, 20)\n",
    "B = np.full(shape=(20,), fill_value=1, dtype='float')\n",
    " \n",
    "print(np.allclose(np.sin(A) ** 2 + np.cos(A) ** 2, B))"
   ]
  },
  {
   "cell_type": "code",
   "execution_count": 20,
   "id": "5110e5b9",
   "metadata": {},
   "outputs": [
    {
     "name": "stdout",
     "output_type": "stream",
     "text": [
      "[[  5   6  10]\n",
      " [-18 -12  -4]\n",
      " [ 20  15  10]]\n"
     ]
    }
   ],
   "source": [
    "A = np.array([[2, 3],\n",
    "              [-4, 2],\n",
    "              [5, 0]])\n",
    "B = np.array([[4, 3, 2],\n",
    "              [-1, 0, 2]])\n",
    " \n",
    "print(A.dot(B))"
   ]
  },
  {
   "cell_type": "code",
   "execution_count": 21,
   "id": "c1141c8d",
   "metadata": {
    "scrolled": true
   },
   "outputs": [
    {
     "name": "stdout",
     "output_type": "stream",
     "text": [
      "[[  5   6  10]\n",
      " [-18 -12  -4]\n",
      " [ 20  15  10]]\n"
     ]
    }
   ],
   "source": [
    "A = np.array([[2, 3],\n",
    "              [-4, 2],\n",
    "              [5, 0]])\n",
    "B = np.array([[4, 3, 2],\n",
    "              [-1, 0, 2]])\n",
    " \n",
    "print(np.dot(A, B))"
   ]
  },
  {
   "cell_type": "code",
   "execution_count": 22,
   "id": "6572ff6b",
   "metadata": {
    "collapsed": true
   },
   "outputs": [
    {
     "name": "stdout",
     "output_type": "stream",
     "text": [
      "51.999999999999986\n"
     ]
    }
   ],
   "source": [
    "A = np.array([[-2, 0, 4],\n",
    "              [5, 2, -1],\n",
    "              [-4, 2, 4]])\n",
    "\n",
    "print(np.linalg.det(A))"
   ]
  },
  {
   "cell_type": "code",
   "execution_count": 23,
   "id": "e8492e95",
   "metadata": {
    "scrolled": true
   },
   "outputs": [
    {
     "name": "stdout",
     "output_type": "stream",
     "text": [
      "[-9.24621125 -3.          7.24621125]\n",
      "[[-0.62616472 -0.89442719  0.89015941]\n",
      " [-0.31308236  0.          0.4450797 ]\n",
      " [ 0.71407086  0.4472136  -0.09757197]]\n"
     ]
    }
   ],
   "source": [
    "A = np.array([[5, 8, 16],\n",
    "              [4, 1, 8],\n",
    "              [-4, 4, -11]])\n",
    " \n",
    "eigenvalues, eigenvectors = np.linalg.eig(A)\n",
    "print(eigenvalues)\n",
    "print(eigenvectors)"
   ]
  },
  {
   "cell_type": "code",
   "execution_count": 25,
   "id": "0dbc8aba",
   "metadata": {
    "scrolled": true
   },
   "outputs": [
    {
     "name": "stdout",
     "output_type": "stream",
     "text": [
      "[[-0.21393035  0.75621891  0.23880597]\n",
      " [ 0.05970149  0.04477612  0.11940299]\n",
      " [ 0.09950249 -0.25870647 -0.13432836]]\n"
     ]
    }
   ],
   "source": [
    "A = np.array([[5, 8, 16],\n",
    "              [4, 1, 8],\n",
    "              [-4, 4, -11]])\n",
    "\n",
    "print(np.linalg.inv(A))"
   ]
  },
  {
   "cell_type": "code",
   "execution_count": 26,
   "id": "626a7818",
   "metadata": {},
   "outputs": [
    {
     "name": "stdout",
     "output_type": "stream",
     "text": [
      "-5\n"
     ]
    }
   ],
   "source": [
    "A = np.array([[5, 8, 16],\n",
    "              [4, 1, 8],\n",
    "              [-4, 4, -11]])\n",
    "\n",
    "print(np.trace(A))"
   ]
  },
  {
   "cell_type": "code",
   "execution_count": 27,
   "id": "7018fa5a",
   "metadata": {},
   "outputs": [
    {
     "name": "stdout",
     "output_type": "stream",
     "text": [
      "[['id' 'price']\n",
      " ['002' '4.99']\n",
      " ['005' '1.49']\n",
      " ['003' '7.99']\n",
      " ['001' '14.99']\n",
      " ['004' '2.49']]\n"
     ]
    }
   ],
   "source": [
    "np.random.seed(42)\n",
    " \n",
    "A = np.array([['id', 'price'],\n",
    "              ['001', 14.99],\n",
    "              ['002', 4.99],\n",
    "              ['003', 7.99],\n",
    "              ['004', 2.49],\n",
    "              ['005', 1.49]])\n",
    " \n",
    "np.random.shuffle(A[1:])\n",
    "print(A)"
   ]
  },
  {
   "cell_type": "code",
   "execution_count": 29,
   "id": "74765fda",
   "metadata": {},
   "outputs": [
    {
     "name": "stdout",
     "output_type": "stream",
     "text": [
      "[5 2 1 0 4 3]\n"
     ]
    }
   ],
   "source": [
    "A = np.array([0.2, 0.15, 0.1, 0.3, 0.2, 0.05])\n",
    "\n",
    "print(np.argsort(A))"
   ]
  },
  {
   "cell_type": "code",
   "execution_count": 30,
   "id": "66a25688",
   "metadata": {},
   "outputs": [
    {
     "name": "stdout",
     "output_type": "stream",
     "text": [
      "[[ 0.497 -0.138  0.648  1.523 -0.234 -0.234  1.579  0.767]\n",
      " [-0.469  0.543 -0.463 -0.466  0.242 -1.913 -1.725 -0.562]\n",
      " [-1.013  0.314 -0.908 -1.412  1.466 -0.226  0.068 -1.425]\n",
      " [-0.544  0.111 -1.151  0.376 -0.601 -0.292 -0.602  1.852]\n",
      " [-0.013 -1.058  0.823 -1.221  0.209 -1.96  -1.328  0.197]\n",
      " [ 0.738  0.171 -0.116 -0.301 -1.479 -0.72  -0.461  1.057]\n",
      " [ 0.344 -1.763  0.324 -0.385 -0.677  0.612  1.031  0.931]\n",
      " [-0.839 -0.309  0.331  0.976 -0.479 -0.186 -1.106 -1.196]\n",
      " [ 0.813  1.356 -0.072  1.004  0.362 -0.645  0.361  1.538]\n",
      " [-0.036  1.565 -2.62   0.822  0.087 -0.299  0.092 -1.988]]\n"
     ]
    }
   ],
   "source": [
    "np.random.seed(42)\n",
    "A = np.random.randn(10, 8)\n",
    " \n",
    "print(np.round(A, decimals=3))"
   ]
  },
  {
   "cell_type": "code",
   "execution_count": 31,
   "id": "a88bc041",
   "metadata": {},
   "outputs": [
    {
     "name": "stdout",
     "output_type": "stream",
     "text": [
      "[-1.   -0.25]\n"
     ]
    }
   ],
   "source": [
    "W = np.array([4, 5, 1])\n",
    " \n",
    "print(np.roots(W))"
   ]
  },
  {
   "cell_type": "code",
   "execution_count": 32,
   "id": "8508f42a",
   "metadata": {},
   "outputs": [
    {
     "name": "stdout",
     "output_type": "stream",
     "text": [
      "[-2.91610583  0.65388685  0.26221898]\n",
      "[-1.67298165  1.46961743  0.20336421]\n"
     ]
    }
   ],
   "source": [
    "Q = np.array([2, 4, -5, 1])\n",
    "R = np.array([2, 0, -5, 1])\n",
    " \n",
    "print(np.roots(Q))\n",
    "print(np.roots(R))"
   ]
  },
  {
   "cell_type": "code",
   "execution_count": 33,
   "id": "3de9b2ce",
   "metadata": {},
   "outputs": [
    {
     "name": "stdout",
     "output_type": "stream",
     "text": [
      "[2 8 0 2]\n",
      "[-2  0 10  0]\n",
      "[  8  26   2 -17   0   1]\n",
      "[ 4 12 -5  3]\n"
     ]
    }
   ],
   "source": [
    "W = np.array([4, 5, 1])\n",
    "Q = np.array([2, 4, -5, 1])\n",
    " \n",
    "print(np.polyadd(W, Q))\n",
    "print(np.polysub(W, Q))\n",
    "print(np.polymul(W, Q))\n",
    "print(np.polyadd(W, 2 * Q))"
   ]
  },
  {
   "cell_type": "code",
   "execution_count": 34,
   "id": "8a182521",
   "metadata": {},
   "outputs": [
    {
     "name": "stdout",
     "output_type": "stream",
     "text": [
      "[[-1  1  0  1 -1]\n",
      " [ 1 -1 -1  1  1]]\n"
     ]
    }
   ],
   "source": [
    "A = np.array([[-4, 3, 0, 1, -5],\n",
    "              [6, -4, -2, 1, 3]])\n",
    " \n",
    "print(np.sign(A))"
   ]
  },
  {
   "cell_type": "code",
   "execution_count": 35,
   "id": "b64b9308",
   "metadata": {
    "scrolled": true
   },
   "outputs": [
    {
     "name": "stdout",
     "output_type": "stream",
     "text": [
      "['2021-01-01' '2021-01-02' '2021-01-03' '2021-01-04' '2021-01-05'\n",
      " '2021-01-06' '2021-01-07' '2021-01-08' '2021-01-09' '2021-01-10'\n",
      " '2021-01-11' '2021-01-12' '2021-01-13' '2021-01-14' '2021-01-15'\n",
      " '2021-01-16' '2021-01-17' '2021-01-18' '2021-01-19' '2021-01-20'\n",
      " '2021-01-21' '2021-01-22' '2021-01-23' '2021-01-24' '2021-01-25'\n",
      " '2021-01-26' '2021-01-27' '2021-01-28' '2021-01-29' '2021-01-30'\n",
      " '2021-01-31']\n"
     ]
    }
   ],
   "source": [
    "print(np.arange('2021-01-01', '2021-02-01', dtype='datetime64[D]'))"
   ]
  },
  {
   "cell_type": "code",
   "execution_count": 36,
   "id": "ffd605a1",
   "metadata": {},
   "outputs": [
    {
     "name": "stdout",
     "output_type": "stream",
     "text": [
      "[['2021-01' '2021-02' '2021-03']\n",
      " ['2021-04' '2021-05' '2021-06']\n",
      " ['2021-07' '2021-08' '2021-09']\n",
      " ['2021-10' '2021-11' '2021-12']]\n"
     ]
    }
   ],
   "source": [
    "A = np.arange('2021-01', '2022-01', dtype='datetime64[M]')\n",
    "A = A.reshape(-1, 3)\n",
    "print(A)"
   ]
  },
  {
   "cell_type": "code",
   "execution_count": 37,
   "id": "03b697dd",
   "metadata": {},
   "outputs": [
    {
     "name": "stdout",
     "output_type": "stream",
     "text": [
      "2024-04-23\n"
     ]
    }
   ],
   "source": [
    "print(np.datetime64('today'))"
   ]
  },
  {
   "cell_type": "code",
   "execution_count": 39,
   "id": "3ed28e53",
   "metadata": {
    "scrolled": true
   },
   "outputs": [
    {
     "name": "stdout",
     "output_type": "stream",
     "text": [
      "['001XC' '002YC' '003ZC']\n"
     ]
    },
    {
     "name": "stderr",
     "output_type": "stream",
     "text": [
      "/var/folders/g6/368p423d117c1pt_9pkjmw4w0000gn/T/ipykernel_28119/4204645286.py:1: DeprecationWarning: `np.str` is a deprecated alias for the builtin `str`. To silence this warning, use `str` by itself. Doing this will not modify any behavior and is safe. If you specifically wanted the numpy scalar type, use `np.str_` here.\n",
      "Deprecated in NumPy 1.20; for more details and guidance: https://numpy.org/devdocs/release/1.20.0-notes.html#deprecations\n",
      "  A = np.array(['001', '002', '003'], dtype=np.str)\n",
      "/var/folders/g6/368p423d117c1pt_9pkjmw4w0000gn/T/ipykernel_28119/4204645286.py:2: DeprecationWarning: `np.str` is a deprecated alias for the builtin `str`. To silence this warning, use `str` by itself. Doing this will not modify any behavior and is safe. If you specifically wanted the numpy scalar type, use `np.str_` here.\n",
      "Deprecated in NumPy 1.20; for more details and guidance: https://numpy.org/devdocs/release/1.20.0-notes.html#deprecations\n",
      "  B = np.array(['XC', 'YC', 'ZC'], dtype=np.str)\n"
     ]
    }
   ],
   "source": [
    "A = np.array(['001', '002', '003'], dtype=np.str)\n",
    "B = np.array(['XC', 'YC', 'ZC'], dtype=np.str)\n",
    " \n",
    "print(np.char.add(A, B))"
   ]
  },
  {
   "cell_type": "code",
   "execution_count": 40,
   "id": "ebf028eb",
   "metadata": {},
   "outputs": [
    {
     "name": "stdout",
     "output_type": "stream",
     "text": [
      "['0001' '0002' '0003']\n"
     ]
    },
    {
     "name": "stderr",
     "output_type": "stream",
     "text": [
      "/var/folders/g6/368p423d117c1pt_9pkjmw4w0000gn/T/ipykernel_28119/3959272687.py:1: DeprecationWarning: `np.str` is a deprecated alias for the builtin `str`. To silence this warning, use `str` by itself. Doing this will not modify any behavior and is safe. If you specifically wanted the numpy scalar type, use `np.str_` here.\n",
      "Deprecated in NumPy 1.20; for more details and guidance: https://numpy.org/devdocs/release/1.20.0-notes.html#deprecations\n",
      "  A = np.array(['1', '2', '3'], dtype=np.str)\n"
     ]
    }
   ],
   "source": [
    "A = np.array(['1', '2', '3'], dtype=np.str)\n",
    " \n",
    "print(np.char.add('000', A))"
   ]
  },
  {
   "cell_type": "code",
   "execution_count": 41,
   "id": "42360495",
   "metadata": {},
   "outputs": [
    {
     "name": "stdout",
     "output_type": "stream",
     "text": [
      "['0001' '0002' '0003']\n"
     ]
    },
    {
     "name": "stderr",
     "output_type": "stream",
     "text": [
      "/var/folders/g6/368p423d117c1pt_9pkjmw4w0000gn/T/ipykernel_28119/1484419278.py:1: DeprecationWarning: `np.str` is a deprecated alias for the builtin `str`. To silence this warning, use `str` by itself. Doing this will not modify any behavior and is safe. If you specifically wanted the numpy scalar type, use `np.str_` here.\n",
      "Deprecated in NumPy 1.20; for more details and guidance: https://numpy.org/devdocs/release/1.20.0-notes.html#deprecations\n",
      "  A = np.array(['1', '2', '3'], dtype=np.str)\n"
     ]
    }
   ],
   "source": [
    "A = np.array(['1', '2', '3'], dtype=np.str)\n",
    " \n",
    "print(np.char.zfill(A, 4))"
   ]
  },
  {
   "cell_type": "code",
   "execution_count": 42,
   "id": "c3835640",
   "metadata": {},
   "outputs": [
    {
     "name": "stdout",
     "output_type": "stream",
     "text": [
      "['0001' '0002' '0003']\n"
     ]
    },
    {
     "name": "stderr",
     "output_type": "stream",
     "text": [
      "/var/folders/g6/368p423d117c1pt_9pkjmw4w0000gn/T/ipykernel_28119/916709258.py:1: DeprecationWarning: `np.str` is a deprecated alias for the builtin `str`. To silence this warning, use `str` by itself. Doing this will not modify any behavior and is safe. If you specifically wanted the numpy scalar type, use `np.str_` here.\n",
      "Deprecated in NumPy 1.20; for more details and guidance: https://numpy.org/devdocs/release/1.20.0-notes.html#deprecations\n",
      "  A = np.array(['1', '2', '3'], dtype=np.str)\n"
     ]
    }
   ],
   "source": [
    "A = np.array(['1', '2', '3'], dtype=np.str)\n",
    " \n",
    "print(np.char.rjust(A, 4, fillchar='0'))"
   ]
  },
  {
   "cell_type": "code",
   "execution_count": 43,
   "id": "0dd88f53",
   "metadata": {},
   "outputs": [
    {
     "name": "stdout",
     "output_type": "stream",
     "text": [
      "[[list(['PLW', 'CDR', '11B', 'TEN']) list(['AMC', 'LPP'])]\n",
      " [list(['CDR', 'PKO', 'KGH']) list(['CCC', 'QMK'])]]\n"
     ]
    },
    {
     "name": "stderr",
     "output_type": "stream",
     "text": [
      "/var/folders/g6/368p423d117c1pt_9pkjmw4w0000gn/T/ipykernel_28119/3632329703.py:2: DeprecationWarning: `np.str` is a deprecated alias for the builtin `str`. To silence this warning, use `str` by itself. Doing this will not modify any behavior and is safe. If you specifically wanted the numpy scalar type, use `np.str_` here.\n",
      "Deprecated in NumPy 1.20; for more details and guidance: https://numpy.org/devdocs/release/1.20.0-notes.html#deprecations\n",
      "  ['CDR PKO KGH', 'CCC QMK']], dtype=np.str)\n"
     ]
    }
   ],
   "source": [
    "A = np.array([['PLW CDR 11B TEN', 'AMC LPP'],\n",
    "              ['CDR PKO KGH', 'CCC QMK']], dtype=np.str)\n",
    " \n",
    "print(np.char.split(A))"
   ]
  },
  {
   "cell_type": "code",
   "execution_count": 44,
   "id": "def71f0a",
   "metadata": {},
   "outputs": [
    {
     "name": "stdout",
     "output_type": "stream",
     "text": [
      "[['summer time mood']\n",
      " ['sport time']]\n"
     ]
    }
   ],
   "source": [
    "A = np.array([['#summer#time#mood'],\n",
    "              ['#sport#time']])\n",
    " \n",
    "print(np.char.strip(np.char.replace(A, '#', ' ')))"
   ]
  },
  {
   "cell_type": "code",
   "execution_count": 45,
   "id": "382b75c8",
   "metadata": {},
   "outputs": [
    {
     "name": "stdout",
     "output_type": "stream",
     "text": [
      "[[1 0]\n",
      " [1 1]\n",
      " [0 0]]\n"
     ]
    }
   ],
   "source": [
    "A = np.array(\n",
    "    [\n",
    "        ['#summer#time#mood', '#vibe'],\n",
    "        ['#sport#time', '#good#time'],\n",
    "        ['#event#summer', '#fast#move'],\n",
    "    ]\n",
    ")\n",
    " \n",
    " \n",
    "print(np.char.count(A, 'time'))"
   ]
  },
  {
   "cell_type": "code",
   "execution_count": 46,
   "id": "04c84e37",
   "metadata": {},
   "outputs": [
    {
     "name": "stdout",
     "output_type": "stream",
     "text": [
      "[['ALIOR' 'PLALIOR00045' '88 860 000' '1 386 216 000' '0,891' '2,16' '14']\n",
      " ['CCC' 'PLCCC0000016' '27 918 000' '1 292 603 400' '0,831' '5,28' '42']\n",
      " ['CDPROJEKT' 'PLOPTTC00011' '67 348 000' '22 864 646 000' '14,702'\n",
      "  '7,39' '7']\n",
      " ['CYFRPLSAT' 'PLCFRPT00013' '275 301 000' '6 854 994 900' '4,408' '1,17'\n",
      "  '14']\n",
      " ['DINOPL' 'PLDINPL00011' '47 937 000' '8 916 282 000' '5,733' '9,13'\n",
      "  '12']\n",
      " ['JSW' 'PLJSW0000015' '52 636 000' '716 902 320' '0,461' '1,51' '24']\n",
      " ['KGHM' 'PLKGHM000017' '136 410 000' '9 881 540 400' '6,354' '4,78' '8']\n",
      " ['LOTOS' 'PLLOTOS00025' '86 543 000' '5 609 717 260' '3,607' '2,91' '16']\n",
      " ['LPP' 'PLLPP0000011' '1 306 000' '7 444 200 000' '4,787' '1,43' '19']\n",
      " ['MBANK' 'PLBRE0000012' '12 997 000' '2 830 746 600' '1,820' '0,42' '24']\n",
      " ['ORANGEPL' 'PLTLKPL00017' '647 357 000' '4 285 503 340' '2,756' '1,16'\n",
      "  '13']\n",
      " ['PEKAO' 'PLPEKAO00016' '176 379 000' '9 619 710 660' '6,185' '5,27' '9']\n",
      " ['PGE' 'PLPGER000010' '796 776 000' '3 561 588 720' '2,290' '2,88' '18']\n",
      " ['PGNIG' 'PLPGNIG00014' '1 624 608 000' '6 072 784 704' '3,905' '1,56'\n",
      "  '12']\n",
      " ['PKNORLEN' 'PLPKN0000018' '289 049 000' '17 701 360 760' '11,382'\n",
      "  '12,44' '8']\n",
      " ['PKOBP' 'PLPKO0000016' '857 593 000' '18 807 014 490' '12,093' '10,49'\n",
      "  '9']\n",
      " ['PLAY' 'LU1642887738' '114 151 000' '3 696 209 380' '2,377' '1,47' '16']\n",
      " ['PZU' 'PLPZU0000011' '568 305 000' '17 515 160 100' '11,262' '6,64' '6']\n",
      " ['SANPL' 'PLBZ00000044' '33 207 000' '5 213 499 000' '3,352' '1,91' '18']\n",
      " ['TAURONPE' 'PLTAURN00011' '1 043 590 000' '1 252 308 000' '0,805'\n",
      "  '1,21' '33']]\n"
     ]
    },
    {
     "name": "stderr",
     "output_type": "stream",
     "text": [
      "/var/folders/g6/368p423d117c1pt_9pkjmw4w0000gn/T/ipykernel_28119/3660076713.py:24: DeprecationWarning: `np.str` is a deprecated alias for the builtin `str`. To silence this warning, use `str` by itself. Doing this will not modify any behavior and is safe. If you specifically wanted the numpy scalar type, use `np.str_` here.\n",
      "Deprecated in NumPy 1.20; for more details and guidance: https://numpy.org/devdocs/release/1.20.0-notes.html#deprecations\n",
      "  result = np.array(lines, dtype=np.str)\n"
     ]
    }
   ],
   "source": [
    "text = \"\"\"ALIOR\tPLALIOR00045\t88 860 000\t1 386 216 000\t0,891\t2,16\t14\n",
    "CCC\tPLCCC0000016\t27 918 000\t1 292 603 400\t0,831\t5,28\t42\n",
    "CDPROJEKT\tPLOPTTC00011\t67 348 000\t22 864 646 000\t14,702\t7,39\t7\n",
    "CYFRPLSAT\tPLCFRPT00013\t275 301 000\t6 854 994 900\t4,408\t1,17\t14\n",
    "DINOPL\tPLDINPL00011\t47 937 000\t8 916 282 000\t5,733\t9,13\t12\n",
    "JSW\tPLJSW0000015\t52 636 000\t716 902 320\t0,461\t1,51\t24\n",
    "KGHM\tPLKGHM000017\t136 410 000\t9 881 540 400\t6,354\t4,78\t8\n",
    "LOTOS\tPLLOTOS00025\t86 543 000\t5 609 717 260\t3,607\t2,91\t16\n",
    "LPP\tPLLPP0000011\t1 306 000\t7 444 200 000\t4,787\t1,43\t19\n",
    "MBANK\tPLBRE0000012\t12 997 000\t2 830 746 600\t1,820\t0,42\t24\n",
    "ORANGEPL\tPLTLKPL00017\t647 357 000\t4 285 503 340\t2,756\t1,16\t13\n",
    "PEKAO\tPLPEKAO00016\t176 379 000\t9 619 710 660\t6,185\t5,27\t9\n",
    "PGE\tPLPGER000010\t796 776 000\t3 561 588 720\t2,290\t2,88\t18\n",
    "PGNIG\tPLPGNIG00014\t1 624 608 000\t6 072 784 704\t3,905\t1,56\t12\n",
    "PKNORLEN\tPLPKN0000018\t289 049 000\t17 701 360 760\t11,382\t12,44\t8\n",
    "PKOBP\tPLPKO0000016\t857 593 000\t18 807 014 490\t12,093\t10,49\t9\n",
    "PLAY\tLU1642887738\t114 151 000\t3 696 209 380\t2,377\t1,47\t16\n",
    "PZU\tPLPZU0000011\t568 305 000\t17 515 160 100\t11,262\t6,64\t6\n",
    "SANPL\tPLBZ00000044\t33 207 000\t5 213 499 000\t3,352\t1,91\t18\n",
    "TAURONPE\tPLTAURN00011\t1 043 590 000\t1 252 308 000\t0,805\t1,21\t33\"\"\"\n",
    " \n",
    "lines = text.splitlines()\n",
    "lines = [line.split('\\t') for line in lines]\n",
    "result = np.array(lines, dtype=np.str)\n",
    "print(result)"
   ]
  },
  {
   "cell_type": "code",
   "execution_count": null,
   "id": "be657923",
   "metadata": {},
   "outputs": [],
   "source": []
  }
 ],
 "metadata": {
  "kernelspec": {
   "display_name": "Python 3 (ipykernel)",
   "language": "python",
   "name": "python3"
  },
  "language_info": {
   "codemirror_mode": {
    "name": "ipython",
    "version": 3
   },
   "file_extension": ".py",
   "mimetype": "text/x-python",
   "name": "python",
   "nbconvert_exporter": "python",
   "pygments_lexer": "ipython3",
   "version": "3.9.12"
  }
 },
 "nbformat": 4,
 "nbformat_minor": 5
}
