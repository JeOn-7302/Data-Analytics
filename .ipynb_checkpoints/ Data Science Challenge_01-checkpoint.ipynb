{
 "cells": [
  {
   "cell_type": "code",
   "execution_count": 1,
   "id": "98ff2e63",
   "metadata": {},
   "outputs": [
    {
     "name": "stdout",
     "output_type": "stream",
     "text": [
      "3.9.12\n"
     ]
    }
   ],
   "source": [
    "import sys\n",
    "print(sys.version.split()[0])"
   ]
  },
  {
   "cell_type": "code",
   "execution_count": 2,
   "id": "a24afc79",
   "metadata": {},
   "outputs": [],
   "source": [
    "import numpy as np\n",
    "\n",
    "\n",
    "A = np.array([[3, 2, 1, 4],\n",
    "              [5, 2, 1, 6]])\n",
    "\n",
    "B = np.array([[3, 2, 1, 4],\n",
    "              [5, 2, 0, 6]])\n",
    "\n",
    "C = np.array([[True, False, False],\n",
    "              [True, True, True]])\n",
    "\n",
    "D = np.array([0.1, 0.3])"
   ]
  },
  {
   "cell_type": "code",
   "execution_count": 3,
   "id": "03f9ec4d",
   "metadata": {
    "scrolled": false
   },
   "outputs": [
    {
     "name": "stdout",
     "output_type": "stream",
     "text": [
      "A: True\n",
      "B: False\n",
      "C: False\n",
      "D: True\n"
     ]
    }
   ],
   "source": [
    "for name, array in zip(list('ABCD'),[A,B,C,D]):\n",
    "    print(f'{name}: {np.all(array)}')"
   ]
  },
  {
   "cell_type": "code",
   "execution_count": 4,
   "id": "7c41572b",
   "metadata": {
    "scrolled": true
   },
   "outputs": [
    {
     "name": "stdout",
     "output_type": "stream",
     "text": [
      "A: [ True  True]\n",
      "B: [ True False]\n",
      "C: [False  True]\n"
     ]
    }
   ],
   "source": [
    "for name, array in zip(list('ABC'),[A,B,C]):\n",
    "    print(f'{name}: {np.all(array, axis=1)}')"
   ]
  },
  {
   "cell_type": "code",
   "execution_count": 5,
   "id": "ac1a4ea6",
   "metadata": {},
   "outputs": [],
   "source": [
    "A = np.array([[0, 0, 0],\n",
    "              [0, 0, 0]])\n",
    "\n",
    "B = np.array([[0, 0, 0],\n",
    "              [0, 1, 0]])\n",
    "\n",
    "C = np.array([[False, False, False],\n",
    "              [True, False, False]])\n",
    "\n",
    "D = np.array([[0.1, 0.0]])"
   ]
  },
  {
   "cell_type": "code",
   "execution_count": 6,
   "id": "6af83efc",
   "metadata": {},
   "outputs": [
    {
     "name": "stdout",
     "output_type": "stream",
     "text": [
      "A: False\n",
      "B: True\n",
      "C: True\n",
      "D: True\n"
     ]
    }
   ],
   "source": [
    "for name,array in zip(list('ABCD'),[A,B,C,D]):\n",
    "    print(f'{name}: {np.any(array)}')"
   ]
  },
  {
   "cell_type": "code",
   "execution_count": 7,
   "id": "d2df815e",
   "metadata": {},
   "outputs": [
    {
     "name": "stdout",
     "output_type": "stream",
     "text": [
      "A: [False False False]\n",
      "B: [False  True False]\n",
      "C: [ True False False]\n",
      "D: [ True False]\n"
     ]
    }
   ],
   "source": [
    "for name,array in zip(list('ABCD'),[A,B,C,D]):\n",
    "    print(f'{name}: {np.any(array, axis=0)}')"
   ]
  },
  {
   "cell_type": "code",
   "execution_count": 8,
   "id": "8df4f177",
   "metadata": {},
   "outputs": [],
   "source": [
    "A = np.array([[3, 2, 1, np.nan],\n",
    "              [5, np.nan, 1, 6]])"
   ]
  },
  {
   "cell_type": "code",
   "execution_count": 9,
   "id": "38f77093",
   "metadata": {},
   "outputs": [
    {
     "name": "stdout",
     "output_type": "stream",
     "text": [
      "[[False False False  True]\n",
      " [False  True False False]]\n"
     ]
    }
   ],
   "source": [
    "print(np.isnan(A))"
   ]
  },
  {
   "cell_type": "code",
   "execution_count": 10,
   "id": "a237d3eb",
   "metadata": {},
   "outputs": [],
   "source": [
    "A = np.array([0.4, 0.5, 0.3])\n",
    "B = np.array([0.39999999, 0.5000001, 0.3])"
   ]
  },
  {
   "cell_type": "code",
   "execution_count": 11,
   "id": "0f2dbe2a",
   "metadata": {},
   "outputs": [
    {
     "name": "stdout",
     "output_type": "stream",
     "text": [
      "True\n"
     ]
    }
   ],
   "source": [
    "print(np.allclose(A,B))"
   ]
  },
  {
   "cell_type": "code",
   "execution_count": 15,
   "id": "49be3d2b",
   "metadata": {},
   "outputs": [
    {
     "name": "stdout",
     "output_type": "stream",
     "text": [
      "[False False  True]\n"
     ]
    }
   ],
   "source": [
    "print(A==B)"
   ]
  },
  {
   "cell_type": "code",
   "execution_count": 16,
   "id": "84346b1d",
   "metadata": {},
   "outputs": [
    {
     "name": "stdout",
     "output_type": "stream",
     "text": [
      "[False False  True]\n"
     ]
    }
   ],
   "source": [
    "print(np.equal(A,B))"
   ]
  },
  {
   "cell_type": "code",
   "execution_count": 18,
   "id": "b5627d15",
   "metadata": {},
   "outputs": [],
   "source": [
    "A = np.array([0.4, 0.5, 0.3, 0.9])\n",
    "B = np.array([0.38, 0.51, 0.3, 0.91])"
   ]
  },
  {
   "cell_type": "code",
   "execution_count": 19,
   "id": "8f38b743",
   "metadata": {},
   "outputs": [
    {
     "name": "stdout",
     "output_type": "stream",
     "text": [
      "[ True False False False]\n"
     ]
    }
   ],
   "source": [
    "print(A>B)"
   ]
  },
  {
   "cell_type": "code",
   "execution_count": 20,
   "id": "a327c014",
   "metadata": {},
   "outputs": [
    {
     "name": "stdout",
     "output_type": "stream",
     "text": [
      "[ True False False False]\n"
     ]
    }
   ],
   "source": [
    "print(np.greater(A,B))"
   ]
  },
  {
   "cell_type": "code",
   "execution_count": 24,
   "id": "57da9141",
   "metadata": {},
   "outputs": [
    {
     "name": "stdout",
     "output_type": "stream",
     "text": [
      "[[0 0 0 0]\n",
      " [0 0 0 0]\n",
      " [0 0 0 0]\n",
      " [0 0 0 0]]\n"
     ]
    }
   ],
   "source": [
    "print(np.zeros(shape=(4,4), dtype='int'))"
   ]
  },
  {
   "cell_type": "code",
   "execution_count": 28,
   "id": "9cbbb6e7",
   "metadata": {
    "collapsed": true
   },
   "outputs": [
    {
     "name": "stdout",
     "output_type": "stream",
     "text": [
      "[[255. 255. 255. 255. 255. 255. 255. 255. 255. 255.]\n",
      " [255. 255. 255. 255. 255. 255. 255. 255. 255. 255.]\n",
      " [255. 255. 255. 255. 255. 255. 255. 255. 255. 255.]\n",
      " [255. 255. 255. 255. 255. 255. 255. 255. 255. 255.]\n",
      " [255. 255. 255. 255. 255. 255. 255. 255. 255. 255.]\n",
      " [255. 255. 255. 255. 255. 255. 255. 255. 255. 255.]\n",
      " [255. 255. 255. 255. 255. 255. 255. 255. 255. 255.]\n",
      " [255. 255. 255. 255. 255. 255. 255. 255. 255. 255.]\n",
      " [255. 255. 255. 255. 255. 255. 255. 255. 255. 255.]\n",
      " [255. 255. 255. 255. 255. 255. 255. 255. 255. 255.]]\n"
     ]
    }
   ],
   "source": [
    "print(np.full((10,10),255,float))"
   ]
  },
  {
   "cell_type": "code",
   "execution_count": 29,
   "id": "e1d3f6b0",
   "metadata": {
    "collapsed": true
   },
   "outputs": [
    {
     "name": "stdout",
     "output_type": "stream",
     "text": [
      "[[255. 255. 255. 255. 255. 255. 255. 255. 255. 255.]\n",
      " [255. 255. 255. 255. 255. 255. 255. 255. 255. 255.]\n",
      " [255. 255. 255. 255. 255. 255. 255. 255. 255. 255.]\n",
      " [255. 255. 255. 255. 255. 255. 255. 255. 255. 255.]\n",
      " [255. 255. 255. 255. 255. 255. 255. 255. 255. 255.]\n",
      " [255. 255. 255. 255. 255. 255. 255. 255. 255. 255.]\n",
      " [255. 255. 255. 255. 255. 255. 255. 255. 255. 255.]\n",
      " [255. 255. 255. 255. 255. 255. 255. 255. 255. 255.]\n",
      " [255. 255. 255. 255. 255. 255. 255. 255. 255. 255.]\n",
      " [255. 255. 255. 255. 255. 255. 255. 255. 255. 255.]]\n"
     ]
    }
   ],
   "source": [
    "print(np.ones((10,10),float)*255)"
   ]
  },
  {
   "cell_type": "code",
   "execution_count": 30,
   "id": "cbedd68e",
   "metadata": {},
   "outputs": [
    {
     "name": "stdout",
     "output_type": "stream",
     "text": [
      "[10 11 12 13 14 15 16 17 18 19 20 21 22 23 24 25 26 27 28 29 30 31 32 33\n",
      " 34 35 36 37 38 39 40 41 42 43 44 45 46 47 48 49 50 51 52 53 54 55 56 57\n",
      " 58 59 60 61 62 63 64 65 66 67 68 69 70 71 72 73 74 75 76 77 78 79 80 81\n",
      " 82 83 84 85 86 87 88 89 90 91 92 93 94 95 96 97 98 99]\n"
     ]
    }
   ],
   "source": [
    "print(np.arange(10,100))"
   ]
  },
  {
   "cell_type": "code",
   "execution_count": 32,
   "id": "2eeb4659",
   "metadata": {},
   "outputs": [
    {
     "name": "stdout",
     "output_type": "stream",
     "text": [
      "[[10 11 12 13 14 15 16 17 18 19]\n",
      " [20 21 22 23 24 25 26 27 28 29]\n",
      " [30 31 32 33 34 35 36 37 38 39]\n",
      " [40 41 42 43 44 45 46 47 48 49]\n",
      " [50 51 52 53 54 55 56 57 58 59]\n",
      " [60 61 62 63 64 65 66 67 68 69]\n",
      " [70 71 72 73 74 75 76 77 78 79]\n",
      " [80 81 82 83 84 85 86 87 88 89]\n",
      " [90 91 92 93 94 95 96 97 98 99]]\n"
     ]
    }
   ],
   "source": [
    "print(np.arange(10,100).reshape(-1,10))"
   ]
  },
  {
   "cell_type": "code",
   "execution_count": 34,
   "id": "9773bff6",
   "metadata": {
    "scrolled": true
   },
   "outputs": [
    {
     "name": "stdout",
     "output_type": "stream",
     "text": [
      "[[10 11 12 13 14 15 16 17 18 19]\n",
      " [20 21 22 23 24 25 26 27 28 29]\n",
      " [30 31 32 33 34 35 36 37 38 39]\n",
      " [40 41 42 43 44 45 46 47 48 49]\n",
      " [50 51 52 53 54 55 56 57 58 59]\n",
      " [60 61 62 63 64 65 66 67 68 69]\n",
      " [70 71 72 73 74 75 76 77 78 79]\n",
      " [80 81 82 83 84 85 86 87 88 89]\n",
      " [90 91 92 93 94 95 96 97 98 99]]\n"
     ]
    }
   ],
   "source": [
    "print(np.arange(10,100).reshape(9,10))"
   ]
  },
  {
   "cell_type": "code",
   "execution_count": 35,
   "id": "de7e2e98",
   "metadata": {
    "scrolled": true
   },
   "outputs": [
    {
     "name": "stdout",
     "output_type": "stream",
     "text": [
      "[[10 11 12 13 14 15 16 17 18 19]\n",
      " [20 21 22 23 24 25 26 27 28 29]\n",
      " [30 31 32 33 34 35 36 37 38 39]\n",
      " [40 41 42 43 44 45 46 47 48 49]\n",
      " [50 51 52 53 54 55 56 57 58 59]\n",
      " [60 61 62 63 64 65 66 67 68 69]\n",
      " [70 71 72 73 74 75 76 77 78 79]\n",
      " [80 81 82 83 84 85 86 87 88 89]\n",
      " [90 91 92 93 94 95 96 97 98 99]]\n"
     ]
    }
   ],
   "source": [
    "print(np.arange(10,100).reshape(9,-1))"
   ]
  },
  {
   "cell_type": "code",
   "execution_count": 39,
   "id": "4a15fe27",
   "metadata": {
    "scrolled": true
   },
   "outputs": [
    {
     "name": "stdout",
     "output_type": "stream",
     "text": [
      "[[1 0 0 0 0 0]\n",
      " [0 1 0 0 0 0]\n",
      " [0 0 1 0 0 0]\n",
      " [0 0 0 1 0 0]\n",
      " [0 0 0 0 1 0]\n",
      " [0 0 0 0 0 1]]\n"
     ]
    }
   ],
   "source": [
    "print(np.eye(6,6,dtype='int'))"
   ]
  },
  {
   "cell_type": "code",
   "execution_count": 40,
   "id": "654513b2",
   "metadata": {},
   "outputs": [
    {
     "name": "stdout",
     "output_type": "stream",
     "text": [
      "[[1 0 0 0 0 0]\n",
      " [0 1 0 0 0 0]\n",
      " [0 0 1 0 0 0]\n",
      " [0 0 0 1 0 0]\n",
      " [0 0 0 0 1 0]\n",
      " [0 0 0 0 0 1]]\n"
     ]
    }
   ],
   "source": [
    "print(np.eye(N=6,dtype='int'))"
   ]
  },
  {
   "cell_type": "code",
   "execution_count": 41,
   "id": "f28bc423",
   "metadata": {
    "scrolled": true
   },
   "outputs": [
    {
     "name": "stdout",
     "output_type": "stream",
     "text": [
      "[0.77132064 0.02075195 0.63364823 0.74880388 0.49850701 0.22479665\n",
      " 0.19806286 0.76053071 0.16911084 0.08833981 0.68535982 0.95339335\n",
      " 0.00394827 0.51219226 0.81262096 0.61252607 0.72175532 0.29187607\n",
      " 0.91777412 0.71457578 0.54254437 0.14217005 0.37334076 0.67413362\n",
      " 0.44183317 0.43401399 0.61776698 0.51313824 0.65039718 0.60103895]\n"
     ]
    }
   ],
   "source": [
    "np.random.seed(10)\n",
    "print(np.random.rand(30))"
   ]
  },
  {
   "cell_type": "code",
   "execution_count": 42,
   "id": "2f72bd68",
   "metadata": {
    "scrolled": true
   },
   "outputs": [
    {
     "name": "stdout",
     "output_type": "stream",
     "text": [
      "[[ 0.88389311  0.19586502  0.35753652 -2.34326191]\n",
      " [-1.08483259  0.55969629  0.93946935 -0.97848104]\n",
      " [ 0.50309684  0.40641447  0.32346101 -0.49341088]\n",
      " [-0.79201679 -0.84236793 -1.27950266  0.24571517]\n",
      " [-0.0441948   1.56763255  1.05110868  0.40636843]\n",
      " [-0.1686461  -3.18970279  1.12013226  1.33277821]\n",
      " [-0.24333877 -0.13003071 -0.10901737  1.55618644]\n",
      " [ 0.12877835 -2.06694872 -0.88549315 -1.10457948]\n",
      " [ 0.93286635  2.059838   -0.93493796 -1.61299022]\n",
      " [ 0.52706972 -1.55110074  0.32961334 -1.13652654]]\n"
     ]
    }
   ],
   "source": [
    "np.random.seed(20)\n",
    "print(np.random.randn(10, 4))"
   ]
  },
  {
   "cell_type": "code",
   "execution_count": 43,
   "id": "1f2daaa0",
   "metadata": {},
   "outputs": [
    {
     "name": "stdout",
     "output_type": "stream",
     "text": [
      "[[-1.26405266  1.52790535 -0.97071094  0.47055962]\n",
      " [-0.10069672  0.30379318 -1.72596243  1.58509537]\n",
      " [ 0.13429659 -1.10685547  1.57822555  0.10749794]\n",
      " [-0.76404783 -0.77518851  1.38384717  0.76038508]\n",
      " [-0.28564551  0.53836748 -2.08389663  0.93778171]\n",
      " [-0.005778   -0.46747897 -0.4230153   1.06448209]\n",
      " [-2.9033676   1.61689037  1.42550989 -0.66475512]\n",
      " [ 0.98501786 -1.70046527 -1.10014381 -1.31564409]\n",
      " [ 0.81050091 -1.04477837 -0.68922937 -0.85275686]\n",
      " [ 1.11347211 -1.92116972 -0.70140242  0.84908785]]\n"
     ]
    }
   ],
   "source": [
    "np.random.seed(30)\n",
    "sigma = np.sqrt(5)\n",
    "mu = 100\n",
    " \n",
    "print(sigma * np.random.randn(10, 4) + mu)"
   ]
  }
 ],
 "metadata": {
  "kernelspec": {
   "display_name": "Python 3 (ipykernel)",
   "language": "python",
   "name": "python3"
  },
  "language_info": {
   "codemirror_mode": {
    "name": "ipython",
    "version": 3
   },
   "file_extension": ".py",
   "mimetype": "text/x-python",
   "name": "python",
   "nbconvert_exporter": "python",
   "pygments_lexer": "ipython3",
   "version": "3.9.12"
  }
 },
 "nbformat": 4,
 "nbformat_minor": 5
}
